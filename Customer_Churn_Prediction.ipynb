{
  "nbformat": 4,
  "nbformat_minor": 0,
  "metadata": {
    "colab": {
      "provenance": []
    },
    "kernelspec": {
      "name": "python3",
      "display_name": "Python 3"
    },
    "language_info": {
      "name": "python"
    }
  },
  "cells": [
    {
      "cell_type": "markdown",
      "source": [
        "# Customer Churn Prediction\n",
        "\n",
        "## Predicting whether a customer will switch telecommunications provider\n",
        "\n",
        "This project is about predicting whether a customer will switch telecommunications provider, something known as \"churning\". This is of particular relevance in the world of telecommunications providers because it is a very mature market where most marketing strategies are based on increasing market share (percentage of demand satisfied by our company). To this end, it is essential to study which factors significantly influence customers' decision to switch providers.\n",
        "\n",
        "The training data set contains 4,250 samples. Each sample contains 19 features and 1 Boolean variable \"churn\" indicating the class of the sample. The 19 input features and 1 target variable are:\n",
        "\n",
        "1. \"state\", string. 2-letter code for the customer's state of residence in the USA.\n",
        "2. \"account_length\", numeric. Number of months the customer has been with the current telecommunications provider.\n",
        "3. \"area_code\", string=\"area_code_AAA\" where AAA = 3-digit area code.\n",
        "4. \"international_plan\", (yes/no). The customer has an international plan.\n",
        "5. \"voice_mail_plan\", (yes/no). Customer has a voice mail plan.\n",
        "6. \"number_vmail_messages\", numeric. Number of voice mail messages.\n",
        "7. \"total_day_minutes\", numeric. Total minutes of calls for the day.\n",
        "8. \"total_day_calls\", numeric. Total minutes of calls for the day.\n",
        "9. \"total_day_charge\", numeric. Total charge of calls for the day.\n",
        "10. \"total_eve_minutes\", numeric. Total minutes of night calls.\n",
        "11. \"total_eve_calls\", numeric. Total number of night calls.\n",
        "12. \"total_eve_charge\", numeric. Total charge for night calls.\n",
        "13. \"total_night_minutes\", numeric. Total minutes of night calls.\n",
        "14. \"total_night_calls\", numeric. Total number of night calls.\n",
        "15. \"total_night_charge\", numeric. Total charge for night calls.\n",
        "16. \"total_intl_minutes\", numeric. Total minutes of international calls.\n",
        "17. \"total_intl_calls\", numeric. Total number of international calls.\n",
        "18. \"total_intl_charge\", numeric. Total charge for international calls.\n",
        "number_customer_service_calls\", numeric. Number of customer service calls.\n",
        "20. \"churn\", (yes/no). Target variable for churn."
      ],
      "metadata": {
        "id": "lvgvgSE7gA8O"
      }
    },
    {
      "cell_type": "code",
      "source": [
        "import pandas as pd\n",
        "import numpy as np\n",
        "\n",
        "!gdown --id 1beF0_Hsl4XEMlgZcT19SFSKvHSPqRuUN\n",
        "\n",
        "df_raw = pd.read_csv('train.csv')\n",
        "df_raw.head(5)"
      ],
      "metadata": {
        "colab": {
          "base_uri": "https://localhost:8080/",
          "height": 374
        },
        "id": "BDihvNzdBTeV",
        "outputId": "bd1ffdb4-3160-4cea-9f98-3c3af198c40b"
      },
      "execution_count": 2,
      "outputs": [
        {
          "output_type": "stream",
          "name": "stdout",
          "text": [
            "/usr/local/lib/python3.8/dist-packages/gdown/cli.py:127: FutureWarning: Option `--id` was deprecated in version 4.3.1 and will be removed in 5.0. You don't need to pass it anymore to use a file ID.\n",
            "  warnings.warn(\n",
            "Downloading...\n",
            "From: https://drive.google.com/uc?id=1beF0_Hsl4XEMlgZcT19SFSKvHSPqRuUN\n",
            "To: /content/train.csv\n",
            "100% 392k/392k [00:00<00:00, 113MB/s]\n"
          ]
        },
        {
          "output_type": "execute_result",
          "data": {
            "text/plain": [
              "  state  account_length      area_code international_plan voice_mail_plan  \\\n",
              "0    OH             107  area_code_415                 no             yes   \n",
              "1    NJ             137  area_code_415                 no              no   \n",
              "2    OH              84  area_code_408                yes              no   \n",
              "3    OK              75  area_code_415                yes              no   \n",
              "4    MA             121  area_code_510                 no             yes   \n",
              "\n",
              "   number_vmail_messages  total_day_minutes  total_day_calls  \\\n",
              "0                     26              161.6              123   \n",
              "1                      0              243.4              114   \n",
              "2                      0              299.4               71   \n",
              "3                      0              166.7              113   \n",
              "4                     24              218.2               88   \n",
              "\n",
              "   total_day_charge  total_eve_minutes  total_eve_calls  total_eve_charge  \\\n",
              "0             27.47              195.5              103             16.62   \n",
              "1             41.38              121.2              110             10.30   \n",
              "2             50.90               61.9               88              5.26   \n",
              "3             28.34              148.3              122             12.61   \n",
              "4             37.09              348.5              108             29.62   \n",
              "\n",
              "   total_night_minutes  total_night_calls  total_night_charge  \\\n",
              "0                254.4                103               11.45   \n",
              "1                162.6                104                7.32   \n",
              "2                196.9                 89                8.86   \n",
              "3                186.9                121                8.41   \n",
              "4                212.6                118                9.57   \n",
              "\n",
              "   total_intl_minutes  total_intl_calls  total_intl_charge  \\\n",
              "0                13.7                 3               3.70   \n",
              "1                12.2                 5               3.29   \n",
              "2                 6.6                 7               1.78   \n",
              "3                10.1                 3               2.73   \n",
              "4                 7.5                 7               2.03   \n",
              "\n",
              "   number_customer_service_calls churn  \n",
              "0                              1    no  \n",
              "1                              0    no  \n",
              "2                              2    no  \n",
              "3                              3    no  \n",
              "4                              3    no  "
            ],
            "text/html": [
              "\n",
              "  <div id=\"df-efe50fe2-e91a-4d35-9982-2c65a468bc23\">\n",
              "    <div class=\"colab-df-container\">\n",
              "      <div>\n",
              "<style scoped>\n",
              "    .dataframe tbody tr th:only-of-type {\n",
              "        vertical-align: middle;\n",
              "    }\n",
              "\n",
              "    .dataframe tbody tr th {\n",
              "        vertical-align: top;\n",
              "    }\n",
              "\n",
              "    .dataframe thead th {\n",
              "        text-align: right;\n",
              "    }\n",
              "</style>\n",
              "<table border=\"1\" class=\"dataframe\">\n",
              "  <thead>\n",
              "    <tr style=\"text-align: right;\">\n",
              "      <th></th>\n",
              "      <th>state</th>\n",
              "      <th>account_length</th>\n",
              "      <th>area_code</th>\n",
              "      <th>international_plan</th>\n",
              "      <th>voice_mail_plan</th>\n",
              "      <th>number_vmail_messages</th>\n",
              "      <th>total_day_minutes</th>\n",
              "      <th>total_day_calls</th>\n",
              "      <th>total_day_charge</th>\n",
              "      <th>total_eve_minutes</th>\n",
              "      <th>total_eve_calls</th>\n",
              "      <th>total_eve_charge</th>\n",
              "      <th>total_night_minutes</th>\n",
              "      <th>total_night_calls</th>\n",
              "      <th>total_night_charge</th>\n",
              "      <th>total_intl_minutes</th>\n",
              "      <th>total_intl_calls</th>\n",
              "      <th>total_intl_charge</th>\n",
              "      <th>number_customer_service_calls</th>\n",
              "      <th>churn</th>\n",
              "    </tr>\n",
              "  </thead>\n",
              "  <tbody>\n",
              "    <tr>\n",
              "      <th>0</th>\n",
              "      <td>OH</td>\n",
              "      <td>107</td>\n",
              "      <td>area_code_415</td>\n",
              "      <td>no</td>\n",
              "      <td>yes</td>\n",
              "      <td>26</td>\n",
              "      <td>161.6</td>\n",
              "      <td>123</td>\n",
              "      <td>27.47</td>\n",
              "      <td>195.5</td>\n",
              "      <td>103</td>\n",
              "      <td>16.62</td>\n",
              "      <td>254.4</td>\n",
              "      <td>103</td>\n",
              "      <td>11.45</td>\n",
              "      <td>13.7</td>\n",
              "      <td>3</td>\n",
              "      <td>3.70</td>\n",
              "      <td>1</td>\n",
              "      <td>no</td>\n",
              "    </tr>\n",
              "    <tr>\n",
              "      <th>1</th>\n",
              "      <td>NJ</td>\n",
              "      <td>137</td>\n",
              "      <td>area_code_415</td>\n",
              "      <td>no</td>\n",
              "      <td>no</td>\n",
              "      <td>0</td>\n",
              "      <td>243.4</td>\n",
              "      <td>114</td>\n",
              "      <td>41.38</td>\n",
              "      <td>121.2</td>\n",
              "      <td>110</td>\n",
              "      <td>10.30</td>\n",
              "      <td>162.6</td>\n",
              "      <td>104</td>\n",
              "      <td>7.32</td>\n",
              "      <td>12.2</td>\n",
              "      <td>5</td>\n",
              "      <td>3.29</td>\n",
              "      <td>0</td>\n",
              "      <td>no</td>\n",
              "    </tr>\n",
              "    <tr>\n",
              "      <th>2</th>\n",
              "      <td>OH</td>\n",
              "      <td>84</td>\n",
              "      <td>area_code_408</td>\n",
              "      <td>yes</td>\n",
              "      <td>no</td>\n",
              "      <td>0</td>\n",
              "      <td>299.4</td>\n",
              "      <td>71</td>\n",
              "      <td>50.90</td>\n",
              "      <td>61.9</td>\n",
              "      <td>88</td>\n",
              "      <td>5.26</td>\n",
              "      <td>196.9</td>\n",
              "      <td>89</td>\n",
              "      <td>8.86</td>\n",
              "      <td>6.6</td>\n",
              "      <td>7</td>\n",
              "      <td>1.78</td>\n",
              "      <td>2</td>\n",
              "      <td>no</td>\n",
              "    </tr>\n",
              "    <tr>\n",
              "      <th>3</th>\n",
              "      <td>OK</td>\n",
              "      <td>75</td>\n",
              "      <td>area_code_415</td>\n",
              "      <td>yes</td>\n",
              "      <td>no</td>\n",
              "      <td>0</td>\n",
              "      <td>166.7</td>\n",
              "      <td>113</td>\n",
              "      <td>28.34</td>\n",
              "      <td>148.3</td>\n",
              "      <td>122</td>\n",
              "      <td>12.61</td>\n",
              "      <td>186.9</td>\n",
              "      <td>121</td>\n",
              "      <td>8.41</td>\n",
              "      <td>10.1</td>\n",
              "      <td>3</td>\n",
              "      <td>2.73</td>\n",
              "      <td>3</td>\n",
              "      <td>no</td>\n",
              "    </tr>\n",
              "    <tr>\n",
              "      <th>4</th>\n",
              "      <td>MA</td>\n",
              "      <td>121</td>\n",
              "      <td>area_code_510</td>\n",
              "      <td>no</td>\n",
              "      <td>yes</td>\n",
              "      <td>24</td>\n",
              "      <td>218.2</td>\n",
              "      <td>88</td>\n",
              "      <td>37.09</td>\n",
              "      <td>348.5</td>\n",
              "      <td>108</td>\n",
              "      <td>29.62</td>\n",
              "      <td>212.6</td>\n",
              "      <td>118</td>\n",
              "      <td>9.57</td>\n",
              "      <td>7.5</td>\n",
              "      <td>7</td>\n",
              "      <td>2.03</td>\n",
              "      <td>3</td>\n",
              "      <td>no</td>\n",
              "    </tr>\n",
              "  </tbody>\n",
              "</table>\n",
              "</div>\n",
              "      <button class=\"colab-df-convert\" onclick=\"convertToInteractive('df-efe50fe2-e91a-4d35-9982-2c65a468bc23')\"\n",
              "              title=\"Convert this dataframe to an interactive table.\"\n",
              "              style=\"display:none;\">\n",
              "        \n",
              "  <svg xmlns=\"http://www.w3.org/2000/svg\" height=\"24px\"viewBox=\"0 0 24 24\"\n",
              "       width=\"24px\">\n",
              "    <path d=\"M0 0h24v24H0V0z\" fill=\"none\"/>\n",
              "    <path d=\"M18.56 5.44l.94 2.06.94-2.06 2.06-.94-2.06-.94-.94-2.06-.94 2.06-2.06.94zm-11 1L8.5 8.5l.94-2.06 2.06-.94-2.06-.94L8.5 2.5l-.94 2.06-2.06.94zm10 10l.94 2.06.94-2.06 2.06-.94-2.06-.94-.94-2.06-.94 2.06-2.06.94z\"/><path d=\"M17.41 7.96l-1.37-1.37c-.4-.4-.92-.59-1.43-.59-.52 0-1.04.2-1.43.59L10.3 9.45l-7.72 7.72c-.78.78-.78 2.05 0 2.83L4 21.41c.39.39.9.59 1.41.59.51 0 1.02-.2 1.41-.59l7.78-7.78 2.81-2.81c.8-.78.8-2.07 0-2.86zM5.41 20L4 18.59l7.72-7.72 1.47 1.35L5.41 20z\"/>\n",
              "  </svg>\n",
              "      </button>\n",
              "      \n",
              "  <style>\n",
              "    .colab-df-container {\n",
              "      display:flex;\n",
              "      flex-wrap:wrap;\n",
              "      gap: 12px;\n",
              "    }\n",
              "\n",
              "    .colab-df-convert {\n",
              "      background-color: #E8F0FE;\n",
              "      border: none;\n",
              "      border-radius: 50%;\n",
              "      cursor: pointer;\n",
              "      display: none;\n",
              "      fill: #1967D2;\n",
              "      height: 32px;\n",
              "      padding: 0 0 0 0;\n",
              "      width: 32px;\n",
              "    }\n",
              "\n",
              "    .colab-df-convert:hover {\n",
              "      background-color: #E2EBFA;\n",
              "      box-shadow: 0px 1px 2px rgba(60, 64, 67, 0.3), 0px 1px 3px 1px rgba(60, 64, 67, 0.15);\n",
              "      fill: #174EA6;\n",
              "    }\n",
              "\n",
              "    [theme=dark] .colab-df-convert {\n",
              "      background-color: #3B4455;\n",
              "      fill: #D2E3FC;\n",
              "    }\n",
              "\n",
              "    [theme=dark] .colab-df-convert:hover {\n",
              "      background-color: #434B5C;\n",
              "      box-shadow: 0px 1px 3px 1px rgba(0, 0, 0, 0.15);\n",
              "      filter: drop-shadow(0px 1px 2px rgba(0, 0, 0, 0.3));\n",
              "      fill: #FFFFFF;\n",
              "    }\n",
              "  </style>\n",
              "\n",
              "      <script>\n",
              "        const buttonEl =\n",
              "          document.querySelector('#df-efe50fe2-e91a-4d35-9982-2c65a468bc23 button.colab-df-convert');\n",
              "        buttonEl.style.display =\n",
              "          google.colab.kernel.accessAllowed ? 'block' : 'none';\n",
              "\n",
              "        async function convertToInteractive(key) {\n",
              "          const element = document.querySelector('#df-efe50fe2-e91a-4d35-9982-2c65a468bc23');\n",
              "          const dataTable =\n",
              "            await google.colab.kernel.invokeFunction('convertToInteractive',\n",
              "                                                     [key], {});\n",
              "          if (!dataTable) return;\n",
              "\n",
              "          const docLinkHtml = 'Like what you see? Visit the ' +\n",
              "            '<a target=\"_blank\" href=https://colab.research.google.com/notebooks/data_table.ipynb>data table notebook</a>'\n",
              "            + ' to learn more about interactive tables.';\n",
              "          element.innerHTML = '';\n",
              "          dataTable['output_type'] = 'display_data';\n",
              "          await google.colab.output.renderOutput(dataTable, element);\n",
              "          const docLink = document.createElement('div');\n",
              "          docLink.innerHTML = docLinkHtml;\n",
              "          element.appendChild(docLink);\n",
              "        }\n",
              "      </script>\n",
              "    </div>\n",
              "  </div>\n",
              "  "
            ]
          },
          "metadata": {},
          "execution_count": 2
        }
      ]
    },
    {
      "cell_type": "markdown",
      "source": [
        "## 1. Data Cleaning\n",
        "\n",
        "Data cleansing is the process of fixing or removing incorrect, corrupt, misformatted, duplicate or incomplete data within a data set. When multiple data sources are combined, there is a good chance that the data will be duplicated or mislabeled. If the data is incorrect, the results and algorithms are unreliable, even if they appear correct.\n",
        "\n",
        "In this case, all data are clean. In the case of not being clean, commas would be changed by dots, spaces would be cleared in the data that are lines of text, those data that interest me would be divided by bars, commas, dots, etc. \n",
        "\n",
        "In any case, let's check that there are no null values."
      ],
      "metadata": {
        "id": "r8qhp4swAO-8"
      }
    },
    {
      "cell_type": "code",
      "execution_count": 3,
      "metadata": {
        "colab": {
          "base_uri": "https://localhost:8080/"
        },
        "id": "xBuvlUszAGUW",
        "outputId": "86d189cf-8afd-4eed-c7c8-c8eba632a6ea"
      },
      "outputs": [
        {
          "output_type": "execute_result",
          "data": {
            "text/plain": [
              "state                            0\n",
              "account_length                   0\n",
              "area_code                        0\n",
              "international_plan               0\n",
              "voice_mail_plan                  0\n",
              "number_vmail_messages            0\n",
              "total_day_minutes                0\n",
              "total_day_calls                  0\n",
              "total_day_charge                 0\n",
              "total_eve_minutes                0\n",
              "total_eve_calls                  0\n",
              "total_eve_charge                 0\n",
              "total_night_minutes              0\n",
              "total_night_calls                0\n",
              "total_night_charge               0\n",
              "total_intl_minutes               0\n",
              "total_intl_calls                 0\n",
              "total_intl_charge                0\n",
              "number_customer_service_calls    0\n",
              "churn                            0\n",
              "dtype: int64"
            ]
          },
          "metadata": {},
          "execution_count": 3
        }
      ],
      "source": [
        "df_raw.isnull().sum()"
      ]
    },
    {
      "cell_type": "markdown",
      "source": [
        "## 2. Exploratory Data Analysis\n",
        "\n",
        "Exploratory data analysis refers to the critical process of conducting initial investigations on data to discover patterns, detect anomalies, test hypotheses and test assumptions with the help of summary statistics and graphical representations.\n",
        "\n",
        "In this case, our goal is to **predict whether a customer will stay with us or leave**, so we need to see which variables are best for our classification model.\n",
        "\n",
        "### 2.1. Observation of the dataset and adjustment of variable types"
      ],
      "metadata": {
        "id": "aI0XvUIBBk39"
      }
    },
    {
      "cell_type": "code",
      "source": [
        "df_raw.info()"
      ],
      "metadata": {
        "colab": {
          "base_uri": "https://localhost:8080/"
        },
        "id": "aL0L0GKdCYmj",
        "outputId": "c492b2f0-7360-4396-b313-e6b274a07c1c"
      },
      "execution_count": 4,
      "outputs": [
        {
          "output_type": "stream",
          "name": "stdout",
          "text": [
            "<class 'pandas.core.frame.DataFrame'>\n",
            "RangeIndex: 4250 entries, 0 to 4249\n",
            "Data columns (total 20 columns):\n",
            " #   Column                         Non-Null Count  Dtype  \n",
            "---  ------                         --------------  -----  \n",
            " 0   state                          4250 non-null   object \n",
            " 1   account_length                 4250 non-null   int64  \n",
            " 2   area_code                      4250 non-null   object \n",
            " 3   international_plan             4250 non-null   object \n",
            " 4   voice_mail_plan                4250 non-null   object \n",
            " 5   number_vmail_messages          4250 non-null   int64  \n",
            " 6   total_day_minutes              4250 non-null   float64\n",
            " 7   total_day_calls                4250 non-null   int64  \n",
            " 8   total_day_charge               4250 non-null   float64\n",
            " 9   total_eve_minutes              4250 non-null   float64\n",
            " 10  total_eve_calls                4250 non-null   int64  \n",
            " 11  total_eve_charge               4250 non-null   float64\n",
            " 12  total_night_minutes            4250 non-null   float64\n",
            " 13  total_night_calls              4250 non-null   int64  \n",
            " 14  total_night_charge             4250 non-null   float64\n",
            " 15  total_intl_minutes             4250 non-null   float64\n",
            " 16  total_intl_calls               4250 non-null   int64  \n",
            " 17  total_intl_charge              4250 non-null   float64\n",
            " 18  number_customer_service_calls  4250 non-null   int64  \n",
            " 19  churn                          4250 non-null   object \n",
            "dtypes: float64(8), int64(7), object(5)\n",
            "memory usage: 664.2+ KB\n"
          ]
        }
      ]
    },
    {
      "cell_type": "markdown",
      "source": [
        "We can see that there are integer and decimal numeric variables, as well as categorical variables in string format. In order to continue with the analysis and study the correlations, we have to transform the categorical variables in string format into a numerical coding. "
      ],
      "metadata": {
        "id": "7lkmLpnzCdJw"
      }
    },
    {
      "cell_type": "code",
      "source": [
        "# Divide the tables according to type\n",
        "\n",
        "# Numerical type columns\n",
        "df_numeric = df_raw.drop(['state','area_code', 'international_plan','voice_mail_plan','churn'], axis=1)\n",
        "\n",
        "# Columns of categorical type with binary categories\n",
        "df_binary_categoric = df_raw.filter(['international_plan','voice_mail_plan','churn'])\n",
        "# Transform yes and no into 1s and 0s\n",
        "df_binary_categoric = pd.get_dummies(df_binary_categoric, drop_first=True)\n",
        "\n",
        "# Columns of categorical type with non-binary categories\n",
        "df_nonbinary_categoric = df_raw.filter(['state','area_code'])\n",
        "# Keep only the code number and transform them into categories\n",
        "df_nonbinary_categoric['area_code'] = df_nonbinary_categoric['area_code'].str.split('_',expand=True)[2].astype('int')\n",
        "# Transform each state into a category and get its numeric code\n",
        "df_nonbinary_categoric['state'] = df_nonbinary_categoric[\"state\"].astype('category').cat.codes\n",
        "\n",
        "# Join all the subtables to get the final table\n",
        "df_final = pd.concat([df_numeric, df_binary_categoric, df_nonbinary_categoric], axis=1)\n",
        "\n",
        "df_final"
      ],
      "metadata": {
        "colab": {
          "base_uri": "https://localhost:8080/",
          "height": 488
        },
        "id": "zbd7FX5ECyNx",
        "outputId": "004819b0-d41f-4096-8350-ec131fc3073e"
      },
      "execution_count": 5,
      "outputs": [
        {
          "output_type": "execute_result",
          "data": {
            "text/plain": [
              "      account_length  number_vmail_messages  total_day_minutes  \\\n",
              "0                107                     26              161.6   \n",
              "1                137                      0              243.4   \n",
              "2                 84                      0              299.4   \n",
              "3                 75                      0              166.7   \n",
              "4                121                     24              218.2   \n",
              "...              ...                    ...                ...   \n",
              "4245              83                      0              188.3   \n",
              "4246              73                      0              177.9   \n",
              "4247              75                      0              170.7   \n",
              "4248              50                     40              235.7   \n",
              "4249              86                     34              129.4   \n",
              "\n",
              "      total_day_calls  total_day_charge  total_eve_minutes  total_eve_calls  \\\n",
              "0                 123             27.47              195.5              103   \n",
              "1                 114             41.38              121.2              110   \n",
              "2                  71             50.90               61.9               88   \n",
              "3                 113             28.34              148.3              122   \n",
              "4                  88             37.09              348.5              108   \n",
              "...               ...               ...                ...              ...   \n",
              "4245               70             32.01              243.8               88   \n",
              "4246               89             30.24              131.2               82   \n",
              "4247              101             29.02              193.1              126   \n",
              "4248              127             40.07              223.0              126   \n",
              "4249              102             22.00              267.1              104   \n",
              "\n",
              "      total_eve_charge  total_night_minutes  total_night_calls  \\\n",
              "0                16.62                254.4                103   \n",
              "1                10.30                162.6                104   \n",
              "2                 5.26                196.9                 89   \n",
              "3                12.61                186.9                121   \n",
              "4                29.62                212.6                118   \n",
              "...                ...                  ...                ...   \n",
              "4245             20.72                213.7                 79   \n",
              "4246             11.15                186.2                 89   \n",
              "4247             16.41                129.1                104   \n",
              "4248             18.96                297.5                116   \n",
              "4249             22.70                154.8                100   \n",
              "\n",
              "      total_night_charge  total_intl_minutes  total_intl_calls  \\\n",
              "0                  11.45                13.7                 3   \n",
              "1                   7.32                12.2                 5   \n",
              "2                   8.86                 6.6                 7   \n",
              "3                   8.41                10.1                 3   \n",
              "4                   9.57                 7.5                 7   \n",
              "...                  ...                 ...               ...   \n",
              "4245                9.62                10.3                 6   \n",
              "4246                8.38                11.5                 6   \n",
              "4247                5.81                 6.9                 7   \n",
              "4248               13.39                 9.9                 5   \n",
              "4249                6.97                 9.3                16   \n",
              "\n",
              "      total_intl_charge  number_customer_service_calls  \\\n",
              "0                  3.70                              1   \n",
              "1                  3.29                              0   \n",
              "2                  1.78                              2   \n",
              "3                  2.73                              3   \n",
              "4                  2.03                              3   \n",
              "...                 ...                            ...   \n",
              "4245               2.78                              0   \n",
              "4246               3.11                              3   \n",
              "4247               1.86                              1   \n",
              "4248               2.67                              2   \n",
              "4249               2.51                              0   \n",
              "\n",
              "      international_plan_yes  voice_mail_plan_yes  churn_yes  state  area_code  \n",
              "0                          0                    1          0     35        415  \n",
              "1                          0                    0          0     31        415  \n",
              "2                          1                    0          0     35        408  \n",
              "3                          1                    0          0     36        415  \n",
              "4                          0                    1          0     19        510  \n",
              "...                      ...                  ...        ...    ...        ...  \n",
              "4245                       0                    0          0     26        415  \n",
              "4246                       0                    0          0     49        408  \n",
              "4247                       0                    0          0     27        408  \n",
              "4248                       0                    1          0     11        408  \n",
              "4249                       0                    1          0     46        415  \n",
              "\n",
              "[4250 rows x 20 columns]"
            ],
            "text/html": [
              "\n",
              "  <div id=\"df-d4070bd5-3eda-47f3-8dfe-326c7f531c39\">\n",
              "    <div class=\"colab-df-container\">\n",
              "      <div>\n",
              "<style scoped>\n",
              "    .dataframe tbody tr th:only-of-type {\n",
              "        vertical-align: middle;\n",
              "    }\n",
              "\n",
              "    .dataframe tbody tr th {\n",
              "        vertical-align: top;\n",
              "    }\n",
              "\n",
              "    .dataframe thead th {\n",
              "        text-align: right;\n",
              "    }\n",
              "</style>\n",
              "<table border=\"1\" class=\"dataframe\">\n",
              "  <thead>\n",
              "    <tr style=\"text-align: right;\">\n",
              "      <th></th>\n",
              "      <th>account_length</th>\n",
              "      <th>number_vmail_messages</th>\n",
              "      <th>total_day_minutes</th>\n",
              "      <th>total_day_calls</th>\n",
              "      <th>total_day_charge</th>\n",
              "      <th>total_eve_minutes</th>\n",
              "      <th>total_eve_calls</th>\n",
              "      <th>total_eve_charge</th>\n",
              "      <th>total_night_minutes</th>\n",
              "      <th>total_night_calls</th>\n",
              "      <th>total_night_charge</th>\n",
              "      <th>total_intl_minutes</th>\n",
              "      <th>total_intl_calls</th>\n",
              "      <th>total_intl_charge</th>\n",
              "      <th>number_customer_service_calls</th>\n",
              "      <th>international_plan_yes</th>\n",
              "      <th>voice_mail_plan_yes</th>\n",
              "      <th>churn_yes</th>\n",
              "      <th>state</th>\n",
              "      <th>area_code</th>\n",
              "    </tr>\n",
              "  </thead>\n",
              "  <tbody>\n",
              "    <tr>\n",
              "      <th>0</th>\n",
              "      <td>107</td>\n",
              "      <td>26</td>\n",
              "      <td>161.6</td>\n",
              "      <td>123</td>\n",
              "      <td>27.47</td>\n",
              "      <td>195.5</td>\n",
              "      <td>103</td>\n",
              "      <td>16.62</td>\n",
              "      <td>254.4</td>\n",
              "      <td>103</td>\n",
              "      <td>11.45</td>\n",
              "      <td>13.7</td>\n",
              "      <td>3</td>\n",
              "      <td>3.70</td>\n",
              "      <td>1</td>\n",
              "      <td>0</td>\n",
              "      <td>1</td>\n",
              "      <td>0</td>\n",
              "      <td>35</td>\n",
              "      <td>415</td>\n",
              "    </tr>\n",
              "    <tr>\n",
              "      <th>1</th>\n",
              "      <td>137</td>\n",
              "      <td>0</td>\n",
              "      <td>243.4</td>\n",
              "      <td>114</td>\n",
              "      <td>41.38</td>\n",
              "      <td>121.2</td>\n",
              "      <td>110</td>\n",
              "      <td>10.30</td>\n",
              "      <td>162.6</td>\n",
              "      <td>104</td>\n",
              "      <td>7.32</td>\n",
              "      <td>12.2</td>\n",
              "      <td>5</td>\n",
              "      <td>3.29</td>\n",
              "      <td>0</td>\n",
              "      <td>0</td>\n",
              "      <td>0</td>\n",
              "      <td>0</td>\n",
              "      <td>31</td>\n",
              "      <td>415</td>\n",
              "    </tr>\n",
              "    <tr>\n",
              "      <th>2</th>\n",
              "      <td>84</td>\n",
              "      <td>0</td>\n",
              "      <td>299.4</td>\n",
              "      <td>71</td>\n",
              "      <td>50.90</td>\n",
              "      <td>61.9</td>\n",
              "      <td>88</td>\n",
              "      <td>5.26</td>\n",
              "      <td>196.9</td>\n",
              "      <td>89</td>\n",
              "      <td>8.86</td>\n",
              "      <td>6.6</td>\n",
              "      <td>7</td>\n",
              "      <td>1.78</td>\n",
              "      <td>2</td>\n",
              "      <td>1</td>\n",
              "      <td>0</td>\n",
              "      <td>0</td>\n",
              "      <td>35</td>\n",
              "      <td>408</td>\n",
              "    </tr>\n",
              "    <tr>\n",
              "      <th>3</th>\n",
              "      <td>75</td>\n",
              "      <td>0</td>\n",
              "      <td>166.7</td>\n",
              "      <td>113</td>\n",
              "      <td>28.34</td>\n",
              "      <td>148.3</td>\n",
              "      <td>122</td>\n",
              "      <td>12.61</td>\n",
              "      <td>186.9</td>\n",
              "      <td>121</td>\n",
              "      <td>8.41</td>\n",
              "      <td>10.1</td>\n",
              "      <td>3</td>\n",
              "      <td>2.73</td>\n",
              "      <td>3</td>\n",
              "      <td>1</td>\n",
              "      <td>0</td>\n",
              "      <td>0</td>\n",
              "      <td>36</td>\n",
              "      <td>415</td>\n",
              "    </tr>\n",
              "    <tr>\n",
              "      <th>4</th>\n",
              "      <td>121</td>\n",
              "      <td>24</td>\n",
              "      <td>218.2</td>\n",
              "      <td>88</td>\n",
              "      <td>37.09</td>\n",
              "      <td>348.5</td>\n",
              "      <td>108</td>\n",
              "      <td>29.62</td>\n",
              "      <td>212.6</td>\n",
              "      <td>118</td>\n",
              "      <td>9.57</td>\n",
              "      <td>7.5</td>\n",
              "      <td>7</td>\n",
              "      <td>2.03</td>\n",
              "      <td>3</td>\n",
              "      <td>0</td>\n",
              "      <td>1</td>\n",
              "      <td>0</td>\n",
              "      <td>19</td>\n",
              "      <td>510</td>\n",
              "    </tr>\n",
              "    <tr>\n",
              "      <th>...</th>\n",
              "      <td>...</td>\n",
              "      <td>...</td>\n",
              "      <td>...</td>\n",
              "      <td>...</td>\n",
              "      <td>...</td>\n",
              "      <td>...</td>\n",
              "      <td>...</td>\n",
              "      <td>...</td>\n",
              "      <td>...</td>\n",
              "      <td>...</td>\n",
              "      <td>...</td>\n",
              "      <td>...</td>\n",
              "      <td>...</td>\n",
              "      <td>...</td>\n",
              "      <td>...</td>\n",
              "      <td>...</td>\n",
              "      <td>...</td>\n",
              "      <td>...</td>\n",
              "      <td>...</td>\n",
              "      <td>...</td>\n",
              "    </tr>\n",
              "    <tr>\n",
              "      <th>4245</th>\n",
              "      <td>83</td>\n",
              "      <td>0</td>\n",
              "      <td>188.3</td>\n",
              "      <td>70</td>\n",
              "      <td>32.01</td>\n",
              "      <td>243.8</td>\n",
              "      <td>88</td>\n",
              "      <td>20.72</td>\n",
              "      <td>213.7</td>\n",
              "      <td>79</td>\n",
              "      <td>9.62</td>\n",
              "      <td>10.3</td>\n",
              "      <td>6</td>\n",
              "      <td>2.78</td>\n",
              "      <td>0</td>\n",
              "      <td>0</td>\n",
              "      <td>0</td>\n",
              "      <td>0</td>\n",
              "      <td>26</td>\n",
              "      <td>415</td>\n",
              "    </tr>\n",
              "    <tr>\n",
              "      <th>4246</th>\n",
              "      <td>73</td>\n",
              "      <td>0</td>\n",
              "      <td>177.9</td>\n",
              "      <td>89</td>\n",
              "      <td>30.24</td>\n",
              "      <td>131.2</td>\n",
              "      <td>82</td>\n",
              "      <td>11.15</td>\n",
              "      <td>186.2</td>\n",
              "      <td>89</td>\n",
              "      <td>8.38</td>\n",
              "      <td>11.5</td>\n",
              "      <td>6</td>\n",
              "      <td>3.11</td>\n",
              "      <td>3</td>\n",
              "      <td>0</td>\n",
              "      <td>0</td>\n",
              "      <td>0</td>\n",
              "      <td>49</td>\n",
              "      <td>408</td>\n",
              "    </tr>\n",
              "    <tr>\n",
              "      <th>4247</th>\n",
              "      <td>75</td>\n",
              "      <td>0</td>\n",
              "      <td>170.7</td>\n",
              "      <td>101</td>\n",
              "      <td>29.02</td>\n",
              "      <td>193.1</td>\n",
              "      <td>126</td>\n",
              "      <td>16.41</td>\n",
              "      <td>129.1</td>\n",
              "      <td>104</td>\n",
              "      <td>5.81</td>\n",
              "      <td>6.9</td>\n",
              "      <td>7</td>\n",
              "      <td>1.86</td>\n",
              "      <td>1</td>\n",
              "      <td>0</td>\n",
              "      <td>0</td>\n",
              "      <td>0</td>\n",
              "      <td>27</td>\n",
              "      <td>408</td>\n",
              "    </tr>\n",
              "    <tr>\n",
              "      <th>4248</th>\n",
              "      <td>50</td>\n",
              "      <td>40</td>\n",
              "      <td>235.7</td>\n",
              "      <td>127</td>\n",
              "      <td>40.07</td>\n",
              "      <td>223.0</td>\n",
              "      <td>126</td>\n",
              "      <td>18.96</td>\n",
              "      <td>297.5</td>\n",
              "      <td>116</td>\n",
              "      <td>13.39</td>\n",
              "      <td>9.9</td>\n",
              "      <td>5</td>\n",
              "      <td>2.67</td>\n",
              "      <td>2</td>\n",
              "      <td>0</td>\n",
              "      <td>1</td>\n",
              "      <td>0</td>\n",
              "      <td>11</td>\n",
              "      <td>408</td>\n",
              "    </tr>\n",
              "    <tr>\n",
              "      <th>4249</th>\n",
              "      <td>86</td>\n",
              "      <td>34</td>\n",
              "      <td>129.4</td>\n",
              "      <td>102</td>\n",
              "      <td>22.00</td>\n",
              "      <td>267.1</td>\n",
              "      <td>104</td>\n",
              "      <td>22.70</td>\n",
              "      <td>154.8</td>\n",
              "      <td>100</td>\n",
              "      <td>6.97</td>\n",
              "      <td>9.3</td>\n",
              "      <td>16</td>\n",
              "      <td>2.51</td>\n",
              "      <td>0</td>\n",
              "      <td>0</td>\n",
              "      <td>1</td>\n",
              "      <td>0</td>\n",
              "      <td>46</td>\n",
              "      <td>415</td>\n",
              "    </tr>\n",
              "  </tbody>\n",
              "</table>\n",
              "<p>4250 rows × 20 columns</p>\n",
              "</div>\n",
              "      <button class=\"colab-df-convert\" onclick=\"convertToInteractive('df-d4070bd5-3eda-47f3-8dfe-326c7f531c39')\"\n",
              "              title=\"Convert this dataframe to an interactive table.\"\n",
              "              style=\"display:none;\">\n",
              "        \n",
              "  <svg xmlns=\"http://www.w3.org/2000/svg\" height=\"24px\"viewBox=\"0 0 24 24\"\n",
              "       width=\"24px\">\n",
              "    <path d=\"M0 0h24v24H0V0z\" fill=\"none\"/>\n",
              "    <path d=\"M18.56 5.44l.94 2.06.94-2.06 2.06-.94-2.06-.94-.94-2.06-.94 2.06-2.06.94zm-11 1L8.5 8.5l.94-2.06 2.06-.94-2.06-.94L8.5 2.5l-.94 2.06-2.06.94zm10 10l.94 2.06.94-2.06 2.06-.94-2.06-.94-.94-2.06-.94 2.06-2.06.94z\"/><path d=\"M17.41 7.96l-1.37-1.37c-.4-.4-.92-.59-1.43-.59-.52 0-1.04.2-1.43.59L10.3 9.45l-7.72 7.72c-.78.78-.78 2.05 0 2.83L4 21.41c.39.39.9.59 1.41.59.51 0 1.02-.2 1.41-.59l7.78-7.78 2.81-2.81c.8-.78.8-2.07 0-2.86zM5.41 20L4 18.59l7.72-7.72 1.47 1.35L5.41 20z\"/>\n",
              "  </svg>\n",
              "      </button>\n",
              "      \n",
              "  <style>\n",
              "    .colab-df-container {\n",
              "      display:flex;\n",
              "      flex-wrap:wrap;\n",
              "      gap: 12px;\n",
              "    }\n",
              "\n",
              "    .colab-df-convert {\n",
              "      background-color: #E8F0FE;\n",
              "      border: none;\n",
              "      border-radius: 50%;\n",
              "      cursor: pointer;\n",
              "      display: none;\n",
              "      fill: #1967D2;\n",
              "      height: 32px;\n",
              "      padding: 0 0 0 0;\n",
              "      width: 32px;\n",
              "    }\n",
              "\n",
              "    .colab-df-convert:hover {\n",
              "      background-color: #E2EBFA;\n",
              "      box-shadow: 0px 1px 2px rgba(60, 64, 67, 0.3), 0px 1px 3px 1px rgba(60, 64, 67, 0.15);\n",
              "      fill: #174EA6;\n",
              "    }\n",
              "\n",
              "    [theme=dark] .colab-df-convert {\n",
              "      background-color: #3B4455;\n",
              "      fill: #D2E3FC;\n",
              "    }\n",
              "\n",
              "    [theme=dark] .colab-df-convert:hover {\n",
              "      background-color: #434B5C;\n",
              "      box-shadow: 0px 1px 3px 1px rgba(0, 0, 0, 0.15);\n",
              "      filter: drop-shadow(0px 1px 2px rgba(0, 0, 0, 0.3));\n",
              "      fill: #FFFFFF;\n",
              "    }\n",
              "  </style>\n",
              "\n",
              "      <script>\n",
              "        const buttonEl =\n",
              "          document.querySelector('#df-d4070bd5-3eda-47f3-8dfe-326c7f531c39 button.colab-df-convert');\n",
              "        buttonEl.style.display =\n",
              "          google.colab.kernel.accessAllowed ? 'block' : 'none';\n",
              "\n",
              "        async function convertToInteractive(key) {\n",
              "          const element = document.querySelector('#df-d4070bd5-3eda-47f3-8dfe-326c7f531c39');\n",
              "          const dataTable =\n",
              "            await google.colab.kernel.invokeFunction('convertToInteractive',\n",
              "                                                     [key], {});\n",
              "          if (!dataTable) return;\n",
              "\n",
              "          const docLinkHtml = 'Like what you see? Visit the ' +\n",
              "            '<a target=\"_blank\" href=https://colab.research.google.com/notebooks/data_table.ipynb>data table notebook</a>'\n",
              "            + ' to learn more about interactive tables.';\n",
              "          element.innerHTML = '';\n",
              "          dataTable['output_type'] = 'display_data';\n",
              "          await google.colab.output.renderOutput(dataTable, element);\n",
              "          const docLink = document.createElement('div');\n",
              "          docLink.innerHTML = docLinkHtml;\n",
              "          element.appendChild(docLink);\n",
              "        }\n",
              "      </script>\n",
              "    </div>\n",
              "  </div>\n",
              "  "
            ]
          },
          "metadata": {},
          "execution_count": 5
        }
      ]
    },
    {
      "cell_type": "markdown",
      "source": [
        "Again, we check again that there are no null values in case there has been an error during *data wrangling*."
      ],
      "metadata": {
        "id": "qR4wn8YjIcCf"
      }
    },
    {
      "cell_type": "code",
      "source": [
        "df_raw.isnull().sum()"
      ],
      "metadata": {
        "colab": {
          "base_uri": "https://localhost:8080/"
        },
        "id": "hJ0HZQktI0cm",
        "outputId": "b3d5930d-d9e1-4b15-892d-9dc91c10dc7f"
      },
      "execution_count": 6,
      "outputs": [
        {
          "output_type": "execute_result",
          "data": {
            "text/plain": [
              "state                            0\n",
              "account_length                   0\n",
              "area_code                        0\n",
              "international_plan               0\n",
              "voice_mail_plan                  0\n",
              "number_vmail_messages            0\n",
              "total_day_minutes                0\n",
              "total_day_calls                  0\n",
              "total_day_charge                 0\n",
              "total_eve_minutes                0\n",
              "total_eve_calls                  0\n",
              "total_eve_charge                 0\n",
              "total_night_minutes              0\n",
              "total_night_calls                0\n",
              "total_night_charge               0\n",
              "total_intl_minutes               0\n",
              "total_intl_calls                 0\n",
              "total_intl_charge                0\n",
              "number_customer_service_calls    0\n",
              "churn                            0\n",
              "dtype: int64"
            ]
          },
          "metadata": {},
          "execution_count": 6
        }
      ]
    },
    {
      "cell_type": "markdown",
      "source": [
        "### 2.2. Distribution of variables\n",
        "\n",
        "Finding the shape of our data set is an important step in gathering relevant information. The shape of the data set shows the distribution of the data. One can also observe characteristics of the data, such as skewness and *gaps*, which can help to learn more about it, as well as to identify trends."
      ],
      "metadata": {
        "id": "ckSrVGGwJUxW"
      }
    },
    {
      "cell_type": "code",
      "source": [
        "import seaborn as sns\n",
        "import matplotlib.pyplot as plt\n",
        "\n",
        "for column in df_numeric:\n",
        "    sns.histplot(data = df_numeric, x = column)\n",
        "    plt.show()\n"
      ],
      "metadata": {
        "colab": {
          "base_uri": "https://localhost:8080/",
          "height": 1000
        },
        "id": "Zc5eCLpdJwc9",
        "outputId": "c3068ce9-121f-45a5-9511-4fc9522e4171"
      },
      "execution_count": 7,
      "outputs": [
        {
          "output_type": "display_data",
          "data": {
            "text/plain": [
              "<Figure size 432x288 with 1 Axes>"
            ],
            "image/png": "[encoded data removed]"
          },
          "metadata": {
            "needs_background": "light"
          }
        },
        {
          "output_type": "display_data",
          "data": {
            "text/plain": [
              "<Figure size 432x288 with 1 Axes>"
            ],
            "image/png": "[encoded data removed]"
          },
          "metadata": {
            "needs_background": "light"
          }
        },
        {
          "output_type": "display_data",
          "data": {
            "text/plain": [
              "<Figure size 432x288 with 1 Axes>"
            ],
            "image/png": "[encoded data removed]"
          },
          "metadata": {
            "needs_background": "light"
          }
        },
        {
          "output_type": "display_data",
          "data": {
            "text/plain": [
              "<Figure size 432x288 with 1 Axes>"
            ],
            "image/png": "[encoded data removed]"
          },
          "metadata": {
            "needs_background": "light"
          }
        },
        {
          "output_type": "display_data",
          "data": {
            "text/plain": [
              "<Figure size 432x288 with 1 Axes>"
            ],
            "image/png": "[encoded data removed]"
          },
          "metadata": {
            "needs_background": "light"
          }
        },
        {
          "output_type": "display_data",
          "data": {
            "text/plain": [
              "<Figure size 432x288 with 1 Axes>"
            ],
            "image/png": "[encoded data removed]"
          },
          "metadata": {
            "needs_background": "light"
          }
        },
        {
          "output_type": "display_data",
          "data": {
            "text/plain": [
              "<Figure size 432x288 with 1 Axes>"
            ],
            "image/png": "[encoded data removed]"
          },
          "metadata": {
            "needs_background": "light"
          }
        },
        {
          "output_type": "display_data",
          "data": {
            "text/plain": [
              "<Figure size 432x288 with 1 Axes>"
            ],
            "image/png": "[encoded data removed]"
          },
          "metadata": {
            "needs_background": "light"
          }
        },
        {
          "output_type": "display_data",
          "data": {
            "text/plain": [
              "<Figure size 432x288 with 1 Axes>"
            ],
            "image/png": "[encoded data removed]"
          },
          "metadata": {
            "needs_background": "light"
          }
        },
        {
          "output_type": "display_data",
          "data": {
            "text/plain": [
              "<Figure size 432x288 with 1 Axes>"
            ],
            "image/png": "[encoded data removed]"
          },
          "metadata": {
            "needs_background": "light"
          }
        },
        {
          "output_type": "display_data",
          "data": {
            "text/plain": [
              "<Figure size 432x288 with 1 Axes>"
            ],
            "image/png": "[encoded data removed]"
          },
          "metadata": {
            "needs_background": "light"
          }
        },
        {
          "output_type": "display_data",
          "data": {
            "text/plain": [
              "<Figure size 432x288 with 1 Axes>"
            ],
            "image/png": "[encoded data removed]"
          },
          "metadata": {
            "needs_background": "light"
          }
        },
        {
          "output_type": "display_data",
          "data": {
            "text/plain": [
              "<Figure size 432x288 with 1 Axes>"
            ],
            "image/png": "[encoded data removed]"
          },
          "metadata": {
            "needs_background": "light"
          }
        },
        {
          "output_type": "display_data",
          "data": {
            "text/plain": [
              "<Figure size 432x288 with 1 Axes>"
            ],
            "image/png": "[encoded data removed]"
          },
          "metadata": {
            "needs_background": "light"
          }
        },
        {
          "output_type": "display_data",
          "data": {
            "text/plain": [
              "<Figure size 432x288 with 1 Axes>"
            ],
            "image/png": "[encoded data removed]"
          },
          "metadata": {
            "needs_background": "light"
          }
        }
      ]
    },
    {
      "cell_type": "markdown",
      "source": [
        "Regarding the numerical variables, we can observe that **most of them follow an approximately normal distribution**. The **exceptions** are number_vmail_messages, since few people tend to leave voice messages; total_day_calls, which shows a bimodal distribution and total_intl_calls and number_customer_service_calls, both showing a clear skewness tending towards the lower values."
      ],
      "metadata": {
        "id": "0P0T8OjcK674"
      }
    },
    {
      "cell_type": "code",
      "source": [
        "import seaborn as sns\n",
        "import matplotlib.pyplot as plt\n",
        "\n",
        "for column in df_numeric:\n",
        "    sns.histplot(data = df_final, x = column, hue = 'churn_yes')\n",
        "    plt.show()"
      ],
      "metadata": {
        "colab": {
          "base_uri": "https://localhost:8080/",
          "height": 1000
        },
        "id": "jWladkXrbVSg",
        "outputId": "96ac3d19-a2a2-4902-90d4-505472ef2824"
      },
      "execution_count": 8,
      "outputs": [
        {
          "output_type": "display_data",
          "data": {
            "text/plain": [
              "<Figure size 432x288 with 1 Axes>"
            ],
            "image/png": "[encoded data removed]"
          },
          "metadata": {
            "needs_background": "light"
          }
        },
        {
          "output_type": "display_data",
          "data": {
            "text/plain": [
              "<Figure size 432x288 with 1 Axes>"
            ],
            "image/png": "[encoded data removed]"
          },
          "metadata": {
            "needs_background": "light"
          }
        },
        {
          "output_type": "display_data",
          "data": {
            "text/plain": [
              "<Figure size 432x288 with 1 Axes>"
            ],
            "image/png": "[encoded data removed]"
          },
          "metadata": {
            "needs_background": "light"
          }
        },
        {
          "output_type": "display_data",
          "data": {
            "text/plain": [
              "<Figure size 432x288 with 1 Axes>"
            ],
            "image/png": "[encoded data removed]"
          },
          "metadata": {
            "needs_background": "light"
          }
        },
        {
          "output_type": "display_data",
          "data": {
            "text/plain": [
              "<Figure size 432x288 with 1 Axes>"
            ],
            "image/png": "[encoded data removed]"
          },
          "metadata": {
            "needs_background": "light"
          }
        },
        {
          "output_type": "display_data",
          "data": {
            "text/plain": [
              "<Figure size 432x288 with 1 Axes>"
            ],
            "image/png": "[encoded data removed]"
          },
          "metadata": {
            "needs_background": "light"
          }
        },
        {
          "output_type": "display_data",
          "data": {
            "text/plain": [
              "<Figure size 432x288 with 1 Axes>"
            ],
            "image/png": "[encoded data removed]"
          },
          "metadata": {
            "needs_background": "light"
          }
        },
        {
          "output_type": "display_data",
          "data": {
            "text/plain": [
              "<Figure size 432x288 with 1 Axes>"
            ],
            "image/png": "[encoded data removed]"
          },
          "metadata": {
            "needs_background": "light"
          }
        },
        {
          "output_type": "display_data",
          "data": {
            "text/plain": [
              "<Figure size 432x288 with 1 Axes>"
            ],
            "image/png": "[encoded data removed]"
          },
          "metadata": {
            "needs_background": "light"
          }
        },
        {
          "output_type": "display_data",
          "data": {
            "text/plain": [
              "<Figure size 432x288 with 1 Axes>"
            ],
            "image/png": "[encoded data removed]"
          },
          "metadata": {
            "needs_background": "light"
          }
        },
        {
          "output_type": "display_data",
          "data": {
            "text/plain": [
              "<Figure size 432x288 with 1 Axes>"
            ],
            "image/png": "[encoded data removed]"
          },
          "metadata": {
            "needs_background": "light"
          }
        },
        {
          "output_type": "display_data",
          "data": {
            "text/plain": [
              "<Figure size 432x288 with 1 Axes>"
            ],
            "image/png": "[encoded data removed]"
          },
          "metadata": {
            "needs_background": "light"
          }
        },
        {
          "output_type": "display_data",
          "data": {
            "text/plain": [
              "<Figure size 432x288 with 1 Axes>"
            ],
            "image/png": "[encoded data removed]"
          },
          "metadata": {
            "needs_background": "light"
          }
        },
        {
          "output_type": "display_data",
          "data": {
            "text/plain": [
              "<Figure size 432x288 with 1 Axes>"
            ],
            "image/png": "[encoded data removed]"
          },
          "metadata": {
            "needs_background": "light"
          }
        },
        {
          "output_type": "display_data",
          "data": {
            "text/plain": [
              "<Figure size 432x288 with 1 Axes>"
            ],
            "image/png": "[encoded data removed]"
          },
          "metadata": {
            "needs_background": "light"
          }
        }
      ]
    },
    {
      "cell_type": "markdown",
      "source": [
        "On the other hand, we can see that the distribution of the individual variables takes the same shape for both individuals who stay in the company and individuals who leave. This could be a problem, since it would be complicated to find variables that individually could make a difference. Therefore, it would be necessary to study the variables jointly."
      ],
      "metadata": {
        "id": "xXMBDDNHbxS0"
      }
    },
    {
      "cell_type": "code",
      "source": [
        "for column in df_binary_categoric:\n",
        "    sns.countplot(data = df_binary_categoric, x = column)\n",
        "    plt.show()\n",
        "\n",
        "perc_churning = float((df_final['churn_yes'].value_counts()[1]/df_final['churn_yes'].count())*100)\n",
        "print('\\nChurning: %.2f%%'% perc_churning)"
      ],
      "metadata": {
        "colab": {
          "base_uri": "https://localhost:8080/",
          "height": 843
        },
        "id": "c-oLAQiaK7ql",
        "outputId": "4c34d8b7-d0cc-4866-e392-c1a65845c591"
      },
      "execution_count": 9,
      "outputs": [
        {
          "output_type": "display_data",
          "data": {
            "text/plain": [
              "<Figure size 432x288 with 1 Axes>"
            ],
            "image/png": "[encoded data removed]"
          },
          "metadata": {
            "needs_background": "light"
          }
        },
        {
          "output_type": "display_data",
          "data": {
            "text/plain": [
              "<Figure size 432x288 with 1 Axes>"
            ],
            "image/png": "[encoded data removed]"
          },
          "metadata": {
            "needs_background": "light"
          }
        },
        {
          "output_type": "display_data",
          "data": {
            "text/plain": [
              "<Figure size 432x288 with 1 Axes>"
            ],
            "image/png": "[encoded data removed]"
          },
          "metadata": {
            "needs_background": "light"
          }
        },
        {
          "output_type": "stream",
          "name": "stdout",
          "text": [
            "\n",
            "Churning: 14.07%\n"
          ]
        }
      ]
    },
    {
      "cell_type": "markdown",
      "source": [
        "In relation to the binary categorical variables, we can observe that most of the customers have not contracted the international plan or the voice messaging plan. This explains what we have seen in the distribution of number_vmail_messages: if they have not contracted the plan, they cannot send messages.\n",
        "\n",
        "On the other hand, as far as *churning* is concerned, we see that only about **14.07% of customers switch carriers**. This difference in the frequency of cases may then affect the training of the classification model."
      ],
      "metadata": {
        "id": "J05AQU9qMOye"
      }
    },
    {
      "cell_type": "code",
      "source": [
        "sns.countplot(data = df_nonbinary_categoric, y = 'state')\n",
        "plt.yticks([])\n",
        "plt.show()\n",
        "  \n",
        "print('Hay una media de %.2f casos por estado.\\n' % df_final['state'].value_counts().mean())\n",
        "\n",
        "sns.countplot(data = df_nonbinary_categoric, y = 'area_code')\n",
        "plt.show()"
      ],
      "metadata": {
        "colab": {
          "base_uri": "https://localhost:8080/",
          "height": 576
        },
        "id": "J3X85_tSMPGF",
        "outputId": "8c3b63e0-573a-469c-a0d6-c29e91fe9e74"
      },
      "execution_count": 10,
      "outputs": [
        {
          "output_type": "display_data",
          "data": {
            "text/plain": [
              "<Figure size 432x288 with 1 Axes>"
            ],
            "image/png": "[encoded data removed]"
          },
          "metadata": {
            "needs_background": "light"
          }
        },
        {
          "output_type": "stream",
          "name": "stdout",
          "text": [
            "Hay una media de 83.33 casos por estado.\n",
            "\n"
          ]
        },
        {
          "output_type": "display_data",
          "data": {
            "text/plain": [
              "<Figure size 432x288 with 1 Axes>"
            ],
            "image/png": "[encoded data removed]"
          },
          "metadata": {
            "needs_background": "light"
          }
        }
      ]
    },
    {
      "cell_type": "markdown",
      "source": [
        "Finally, in relation to the non-binary categorical variables, we see that there are states with more records than others, with an **average of approximately 83.3 cases per state**. Also, there are area codes more frequent than others, the most frequent being 415. Again, this could have an impact when training the model."
      ],
      "metadata": {
        "id": "bf0cjn5GOOPX"
      }
    },
    {
      "cell_type": "markdown",
      "source": [
        "### 2.3. Correlation of variables\n",
        "\n",
        "As we begin to understand the data set, we can begin to detect the relationships that exist within it. To do this, we will begin by analyzing the correlation of each of the variables with the *churning*."
      ],
      "metadata": {
        "id": "Me9G5mw2aBe2"
      }
    },
    {
      "cell_type": "code",
      "source": [
        "df_final.corr()['churn_yes'].sort_values(ascending=False, key = abs)"
      ],
      "metadata": {
        "colab": {
          "base_uri": "https://localhost:8080/"
        },
        "id": "cG360Xwve2vI",
        "outputId": "cc5f3a27-4c18-4ef2-fd78-1bf32bb9ae2f"
      },
      "execution_count": 11,
      "outputs": [
        {
          "output_type": "execute_result",
          "data": {
            "text/plain": [
              "churn_yes                        1.000000\n",
              "international_plan_yes           0.259053\n",
              "number_customer_service_calls    0.221220\n",
              "total_day_minutes                0.215272\n",
              "total_day_charge                 0.215263\n",
              "voice_mail_plan_yes             -0.114643\n",
              "number_vmail_messages           -0.100347\n",
              "total_eve_minutes                0.078855\n",
              "total_eve_charge                 0.078852\n",
              "total_intl_minutes               0.055186\n",
              "total_intl_charge                0.055177\n",
              "total_night_minutes              0.046647\n",
              "total_night_charge               0.046641\n",
              "total_intl_calls                -0.034334\n",
              "account_length                   0.019378\n",
              "area_code                        0.015964\n",
              "total_night_calls               -0.012699\n",
              "total_day_calls                  0.011640\n",
              "state                            0.007181\n",
              "total_eve_calls                 -0.006817\n",
              "Name: churn_yes, dtype: float64"
            ]
          },
          "metadata": {},
          "execution_count": 11
        }
      ]
    },
    {
      "cell_type": "markdown",
      "source": [
        "As can be seen, there are variables that are more correlated than others with our target variable. So we will continue the analysis with the better half. Additionally, we will add both state and area code to the variables to be used, since they may be of importance in combination with other variables."
      ],
      "metadata": {
        "id": "CU3I6-zpe_Ma"
      }
    },
    {
      "cell_type": "code",
      "source": [
        "# Create the X set\n",
        "df_x = df_final.filter(['international_plan_yes', 'number_customer_service_calls', 'total_day_minutes', 'total_day_charge', 'voice_mail_plan_yes', 'number_vmail_messages', 'total_eve_minutes', 'total_eve_charge', 'total_intl_minutes', 'total_intl_charge', 'state', 'area_code'])\n",
        "\n",
        "# Create the Y set\n",
        "df_y = df_final.filter(['churn_yes'])"
      ],
      "metadata": {
        "id": "0x46S436fija"
      },
      "execution_count": 12,
      "outputs": []
    },
    {
      "cell_type": "markdown",
      "source": [
        "Next, we will study the correlation between the variables of the set x to reduce those that have a clear relationship between them. In this way, we will reduce the noise and improve our classification model."
      ],
      "metadata": {
        "id": "CidJ5b_Tgsz0"
      }
    },
    {
      "cell_type": "code",
      "source": [
        "df_x.corr()"
      ],
      "metadata": {
        "colab": {
          "base_uri": "https://localhost:8080/",
          "height": 490
        },
        "id": "tADj3nxFhCUo",
        "outputId": "c755ca84-bd32-432d-9bb4-40953d1a5338"
      },
      "execution_count": 13,
      "outputs": [
        {
          "output_type": "execute_result",
          "data": {
            "text/plain": [
              "                               international_plan_yes  \\\n",
              "international_plan_yes                       1.000000   \n",
              "number_customer_service_calls               -0.008881   \n",
              "total_day_minutes                            0.040059   \n",
              "total_day_charge                             0.040061   \n",
              "voice_mail_plan_yes                          0.000714   \n",
              "number_vmail_messages                        0.004808   \n",
              "total_eve_minutes                            0.023484   \n",
              "total_eve_charge                             0.023479   \n",
              "total_intl_minutes                           0.023815   \n",
              "total_intl_charge                            0.023799   \n",
              "state                                        0.003822   \n",
              "area_code                                    0.027863   \n",
              "\n",
              "                               number_customer_service_calls  \\\n",
              "international_plan_yes                             -0.008881   \n",
              "number_customer_service_calls                       1.000000   \n",
              "total_day_minutes                                  -0.002925   \n",
              "total_day_charge                                   -0.002932   \n",
              "voice_mail_plan_yes                                -0.021504   \n",
              "number_vmail_messages                              -0.015303   \n",
              "total_eve_minutes                                  -0.010063   \n",
              "total_eve_charge                                   -0.010071   \n",
              "total_intl_minutes                                 -0.013994   \n",
              "total_intl_charge                                  -0.014051   \n",
              "state                                              -0.020421   \n",
              "area_code                                           0.022880   \n",
              "\n",
              "                               total_day_minutes  total_day_charge  \\\n",
              "international_plan_yes                  0.040059          0.040061   \n",
              "number_customer_service_calls          -0.002925         -0.002932   \n",
              "total_day_minutes                       1.000000          1.000000   \n",
              "total_day_charge                        1.000000          1.000000   \n",
              "voice_mail_plan_yes                    -0.000653         -0.000658   \n",
              "number_vmail_messages                   0.002000          0.001994   \n",
              "total_eve_minutes                      -0.013248         -0.013247   \n",
              "total_eve_charge                       -0.013258         -0.013257   \n",
              "total_intl_minutes                     -0.021369         -0.021374   \n",
              "total_intl_charge                      -0.021291         -0.021296   \n",
              "state                                   0.014263          0.014262   \n",
              "area_code                              -0.008200         -0.008204   \n",
              "\n",
              "                               voice_mail_plan_yes  number_vmail_messages  \\\n",
              "international_plan_yes                    0.000714               0.004808   \n",
              "number_customer_service_calls            -0.021504              -0.015303   \n",
              "total_day_minutes                        -0.000653               0.002000   \n",
              "total_day_charge                         -0.000658               0.001994   \n",
              "voice_mail_plan_yes                       1.000000               0.954014   \n",
              "number_vmail_messages                     0.954014               1.000000   \n",
              "total_eve_minutes                         0.011982               0.010725   \n",
              "total_eve_charge                          0.011989               0.010736   \n",
              "total_intl_minutes                        0.008098               0.005220   \n",
              "total_intl_charge                         0.008129               0.005249   \n",
              "state                                    -0.034752              -0.030857   \n",
              "area_code                                -0.008344              -0.007127   \n",
              "\n",
              "                               total_eve_minutes  total_eve_charge  \\\n",
              "international_plan_yes                  0.023484          0.023479   \n",
              "number_customer_service_calls          -0.010063         -0.010071   \n",
              "total_day_minutes                      -0.013248         -0.013258   \n",
              "total_day_charge                       -0.013247         -0.013257   \n",
              "voice_mail_plan_yes                     0.011982          0.011989   \n",
              "number_vmail_messages                   0.010725          0.010736   \n",
              "total_eve_minutes                       1.000000          1.000000   \n",
              "total_eve_charge                        1.000000          1.000000   \n",
              "total_intl_minutes                     -0.003509         -0.003512   \n",
              "total_intl_charge                      -0.003460         -0.003463   \n",
              "state                                   0.001603          0.001603   \n",
              "area_code                               0.010856          0.010870   \n",
              "\n",
              "                               total_intl_minutes  total_intl_charge  \\\n",
              "international_plan_yes                   0.023815           0.023799   \n",
              "number_customer_service_calls           -0.013994          -0.014051   \n",
              "total_day_minutes                       -0.021369          -0.021291   \n",
              "total_day_charge                        -0.021374          -0.021296   \n",
              "voice_mail_plan_yes                      0.008098           0.008129   \n",
              "number_vmail_messages                    0.005220           0.005249   \n",
              "total_eve_minutes                       -0.003509          -0.003460   \n",
              "total_eve_charge                        -0.003512          -0.003463   \n",
              "total_intl_minutes                       1.000000           0.999993   \n",
              "total_intl_charge                        0.999993           1.000000   \n",
              "state                                   -0.010260          -0.010284   \n",
              "area_code                               -0.006417          -0.006514   \n",
              "\n",
              "                                  state  area_code  \n",
              "international_plan_yes         0.003822   0.027863  \n",
              "number_customer_service_calls -0.020421   0.022880  \n",
              "total_day_minutes              0.014263  -0.008200  \n",
              "total_day_charge               0.014262  -0.008204  \n",
              "voice_mail_plan_yes           -0.034752  -0.008344  \n",
              "number_vmail_messages         -0.030857  -0.007127  \n",
              "total_eve_minutes              0.001603   0.010856  \n",
              "total_eve_charge               0.001603   0.010870  \n",
              "total_intl_minutes            -0.010260  -0.006417  \n",
              "total_intl_charge             -0.010284  -0.006514  \n",
              "state                          1.000000   0.021642  \n",
              "area_code                      0.021642   1.000000  "
            ],
            "text/html": [
              "\n",
              "  <div id=\"df-9f4e5cf2-f409-456c-8aa8-4c0120f64095\">\n",
              "    <div class=\"colab-df-container\">\n",
              "      <div>\n",
              "<style scoped>\n",
              "    .dataframe tbody tr th:only-of-type {\n",
              "        vertical-align: middle;\n",
              "    }\n",
              "\n",
              "    .dataframe tbody tr th {\n",
              "        vertical-align: top;\n",
              "    }\n",
              "\n",
              "    .dataframe thead th {\n",
              "        text-align: right;\n",
              "    }\n",
              "</style>\n",
              "<table border=\"1\" class=\"dataframe\">\n",
              "  <thead>\n",
              "    <tr style=\"text-align: right;\">\n",
              "      <th></th>\n",
              "      <th>international_plan_yes</th>\n",
              "      <th>number_customer_service_calls</th>\n",
              "      <th>total_day_minutes</th>\n",
              "      <th>total_day_charge</th>\n",
              "      <th>voice_mail_plan_yes</th>\n",
              "      <th>number_vmail_messages</th>\n",
              "      <th>total_eve_minutes</th>\n",
              "      <th>total_eve_charge</th>\n",
              "      <th>total_intl_minutes</th>\n",
              "      <th>total_intl_charge</th>\n",
              "      <th>state</th>\n",
              "      <th>area_code</th>\n",
              "    </tr>\n",
              "  </thead>\n",
              "  <tbody>\n",
              "    <tr>\n",
              "      <th>international_plan_yes</th>\n",
              "      <td>1.000000</td>\n",
              "      <td>-0.008881</td>\n",
              "      <td>0.040059</td>\n",
              "      <td>0.040061</td>\n",
              "      <td>0.000714</td>\n",
              "      <td>0.004808</td>\n",
              "      <td>0.023484</td>\n",
              "      <td>0.023479</td>\n",
              "      <td>0.023815</td>\n",
              "      <td>0.023799</td>\n",
              "      <td>0.003822</td>\n",
              "      <td>0.027863</td>\n",
              "    </tr>\n",
              "    <tr>\n",
              "      <th>number_customer_service_calls</th>\n",
              "      <td>-0.008881</td>\n",
              "      <td>1.000000</td>\n",
              "      <td>-0.002925</td>\n",
              "      <td>-0.002932</td>\n",
              "      <td>-0.021504</td>\n",
              "      <td>-0.015303</td>\n",
              "      <td>-0.010063</td>\n",
              "      <td>-0.010071</td>\n",
              "      <td>-0.013994</td>\n",
              "      <td>-0.014051</td>\n",
              "      <td>-0.020421</td>\n",
              "      <td>0.022880</td>\n",
              "    </tr>\n",
              "    <tr>\n",
              "      <th>total_day_minutes</th>\n",
              "      <td>0.040059</td>\n",
              "      <td>-0.002925</td>\n",
              "      <td>1.000000</td>\n",
              "      <td>1.000000</td>\n",
              "      <td>-0.000653</td>\n",
              "      <td>0.002000</td>\n",
              "      <td>-0.013248</td>\n",
              "      <td>-0.013258</td>\n",
              "      <td>-0.021369</td>\n",
              "      <td>-0.021291</td>\n",
              "      <td>0.014263</td>\n",
              "      <td>-0.008200</td>\n",
              "    </tr>\n",
              "    <tr>\n",
              "      <th>total_day_charge</th>\n",
              "      <td>0.040061</td>\n",
              "      <td>-0.002932</td>\n",
              "      <td>1.000000</td>\n",
              "      <td>1.000000</td>\n",
              "      <td>-0.000658</td>\n",
              "      <td>0.001994</td>\n",
              "      <td>-0.013247</td>\n",
              "      <td>-0.013257</td>\n",
              "      <td>-0.021374</td>\n",
              "      <td>-0.021296</td>\n",
              "      <td>0.014262</td>\n",
              "      <td>-0.008204</td>\n",
              "    </tr>\n",
              "    <tr>\n",
              "      <th>voice_mail_plan_yes</th>\n",
              "      <td>0.000714</td>\n",
              "      <td>-0.021504</td>\n",
              "      <td>-0.000653</td>\n",
              "      <td>-0.000658</td>\n",
              "      <td>1.000000</td>\n",
              "      <td>0.954014</td>\n",
              "      <td>0.011982</td>\n",
              "      <td>0.011989</td>\n",
              "      <td>0.008098</td>\n",
              "      <td>0.008129</td>\n",
              "      <td>-0.034752</td>\n",
              "      <td>-0.008344</td>\n",
              "    </tr>\n",
              "    <tr>\n",
              "      <th>number_vmail_messages</th>\n",
              "      <td>0.004808</td>\n",
              "      <td>-0.015303</td>\n",
              "      <td>0.002000</td>\n",
              "      <td>0.001994</td>\n",
              "      <td>0.954014</td>\n",
              "      <td>1.000000</td>\n",
              "      <td>0.010725</td>\n",
              "      <td>0.010736</td>\n",
              "      <td>0.005220</td>\n",
              "      <td>0.005249</td>\n",
              "      <td>-0.030857</td>\n",
              "      <td>-0.007127</td>\n",
              "    </tr>\n",
              "    <tr>\n",
              "      <th>total_eve_minutes</th>\n",
              "      <td>0.023484</td>\n",
              "      <td>-0.010063</td>\n",
              "      <td>-0.013248</td>\n",
              "      <td>-0.013247</td>\n",
              "      <td>0.011982</td>\n",
              "      <td>0.010725</td>\n",
              "      <td>1.000000</td>\n",
              "      <td>1.000000</td>\n",
              "      <td>-0.003509</td>\n",
              "      <td>-0.003460</td>\n",
              "      <td>0.001603</td>\n",
              "      <td>0.010856</td>\n",
              "    </tr>\n",
              "    <tr>\n",
              "      <th>total_eve_charge</th>\n",
              "      <td>0.023479</td>\n",
              "      <td>-0.010071</td>\n",
              "      <td>-0.013258</td>\n",
              "      <td>-0.013257</td>\n",
              "      <td>0.011989</td>\n",
              "      <td>0.010736</td>\n",
              "      <td>1.000000</td>\n",
              "      <td>1.000000</td>\n",
              "      <td>-0.003512</td>\n",
              "      <td>-0.003463</td>\n",
              "      <td>0.001603</td>\n",
              "      <td>0.010870</td>\n",
              "    </tr>\n",
              "    <tr>\n",
              "      <th>total_intl_minutes</th>\n",
              "      <td>0.023815</td>\n",
              "      <td>-0.013994</td>\n",
              "      <td>-0.021369</td>\n",
              "      <td>-0.021374</td>\n",
              "      <td>0.008098</td>\n",
              "      <td>0.005220</td>\n",
              "      <td>-0.003509</td>\n",
              "      <td>-0.003512</td>\n",
              "      <td>1.000000</td>\n",
              "      <td>0.999993</td>\n",
              "      <td>-0.010260</td>\n",
              "      <td>-0.006417</td>\n",
              "    </tr>\n",
              "    <tr>\n",
              "      <th>total_intl_charge</th>\n",
              "      <td>0.023799</td>\n",
              "      <td>-0.014051</td>\n",
              "      <td>-0.021291</td>\n",
              "      <td>-0.021296</td>\n",
              "      <td>0.008129</td>\n",
              "      <td>0.005249</td>\n",
              "      <td>-0.003460</td>\n",
              "      <td>-0.003463</td>\n",
              "      <td>0.999993</td>\n",
              "      <td>1.000000</td>\n",
              "      <td>-0.010284</td>\n",
              "      <td>-0.006514</td>\n",
              "    </tr>\n",
              "    <tr>\n",
              "      <th>state</th>\n",
              "      <td>0.003822</td>\n",
              "      <td>-0.020421</td>\n",
              "      <td>0.014263</td>\n",
              "      <td>0.014262</td>\n",
              "      <td>-0.034752</td>\n",
              "      <td>-0.030857</td>\n",
              "      <td>0.001603</td>\n",
              "      <td>0.001603</td>\n",
              "      <td>-0.010260</td>\n",
              "      <td>-0.010284</td>\n",
              "      <td>1.000000</td>\n",
              "      <td>0.021642</td>\n",
              "    </tr>\n",
              "    <tr>\n",
              "      <th>area_code</th>\n",
              "      <td>0.027863</td>\n",
              "      <td>0.022880</td>\n",
              "      <td>-0.008200</td>\n",
              "      <td>-0.008204</td>\n",
              "      <td>-0.008344</td>\n",
              "      <td>-0.007127</td>\n",
              "      <td>0.010856</td>\n",
              "      <td>0.010870</td>\n",
              "      <td>-0.006417</td>\n",
              "      <td>-0.006514</td>\n",
              "      <td>0.021642</td>\n",
              "      <td>1.000000</td>\n",
              "    </tr>\n",
              "  </tbody>\n",
              "</table>\n",
              "</div>\n",
              "      <button class=\"colab-df-convert\" onclick=\"convertToInteractive('df-9f4e5cf2-f409-456c-8aa8-4c0120f64095')\"\n",
              "              title=\"Convert this dataframe to an interactive table.\"\n",
              "              style=\"display:none;\">\n",
              "        \n",
              "  <svg xmlns=\"http://www.w3.org/2000/svg\" height=\"24px\"viewBox=\"0 0 24 24\"\n",
              "       width=\"24px\">\n",
              "    <path d=\"M0 0h24v24H0V0z\" fill=\"none\"/>\n",
              "    <path d=\"M18.56 5.44l.94 2.06.94-2.06 2.06-.94-2.06-.94-.94-2.06-.94 2.06-2.06.94zm-11 1L8.5 8.5l.94-2.06 2.06-.94-2.06-.94L8.5 2.5l-.94 2.06-2.06.94zm10 10l.94 2.06.94-2.06 2.06-.94-2.06-.94-.94-2.06-.94 2.06-2.06.94z\"/><path d=\"M17.41 7.96l-1.37-1.37c-.4-.4-.92-.59-1.43-.59-.52 0-1.04.2-1.43.59L10.3 9.45l-7.72 7.72c-.78.78-.78 2.05 0 2.83L4 21.41c.39.39.9.59 1.41.59.51 0 1.02-.2 1.41-.59l7.78-7.78 2.81-2.81c.8-.78.8-2.07 0-2.86zM5.41 20L4 18.59l7.72-7.72 1.47 1.35L5.41 20z\"/>\n",
              "  </svg>\n",
              "      </button>\n",
              "      \n",
              "  <style>\n",
              "    .colab-df-container {\n",
              "      display:flex;\n",
              "      flex-wrap:wrap;\n",
              "      gap: 12px;\n",
              "    }\n",
              "\n",
              "    .colab-df-convert {\n",
              "      background-color: #E8F0FE;\n",
              "      border: none;\n",
              "      border-radius: 50%;\n",
              "      cursor: pointer;\n",
              "      display: none;\n",
              "      fill: #1967D2;\n",
              "      height: 32px;\n",
              "      padding: 0 0 0 0;\n",
              "      width: 32px;\n",
              "    }\n",
              "\n",
              "    .colab-df-convert:hover {\n",
              "      background-color: #E2EBFA;\n",
              "      box-shadow: 0px 1px 2px rgba(60, 64, 67, 0.3), 0px 1px 3px 1px rgba(60, 64, 67, 0.15);\n",
              "      fill: #174EA6;\n",
              "    }\n",
              "\n",
              "    [theme=dark] .colab-df-convert {\n",
              "      background-color: #3B4455;\n",
              "      fill: #D2E3FC;\n",
              "    }\n",
              "\n",
              "    [theme=dark] .colab-df-convert:hover {\n",
              "      background-color: #434B5C;\n",
              "      box-shadow: 0px 1px 3px 1px rgba(0, 0, 0, 0.15);\n",
              "      filter: drop-shadow(0px 1px 2px rgba(0, 0, 0, 0.3));\n",
              "      fill: #FFFFFF;\n",
              "    }\n",
              "  </style>\n",
              "\n",
              "      <script>\n",
              "        const buttonEl =\n",
              "          document.querySelector('#df-9f4e5cf2-f409-456c-8aa8-4c0120f64095 button.colab-df-convert');\n",
              "        buttonEl.style.display =\n",
              "          google.colab.kernel.accessAllowed ? 'block' : 'none';\n",
              "\n",
              "        async function convertToInteractive(key) {\n",
              "          const element = document.querySelector('#df-9f4e5cf2-f409-456c-8aa8-4c0120f64095');\n",
              "          const dataTable =\n",
              "            await google.colab.kernel.invokeFunction('convertToInteractive',\n",
              "                                                     [key], {});\n",
              "          if (!dataTable) return;\n",
              "\n",
              "          const docLinkHtml = 'Like what you see? Visit the ' +\n",
              "            '<a target=\"_blank\" href=https://colab.research.google.com/notebooks/data_table.ipynb>data table notebook</a>'\n",
              "            + ' to learn more about interactive tables.';\n",
              "          element.innerHTML = '';\n",
              "          dataTable['output_type'] = 'display_data';\n",
              "          await google.colab.output.renderOutput(dataTable, element);\n",
              "          const docLink = document.createElement('div');\n",
              "          docLink.innerHTML = docLinkHtml;\n",
              "          element.appendChild(docLink);\n",
              "        }\n",
              "      </script>\n",
              "    </div>\n",
              "  </div>\n",
              "  "
            ]
          },
          "metadata": {},
          "execution_count": 13
        }
      ]
    },
    {
      "cell_type": "markdown",
      "source": [
        "As can be seen, the variables total_day_minutes and total_day_charge are highly correlated, which makes sense, and the same is true for total_eve_minutes and total_eve_charge, as well as for total_intl_minutes and total_intl_charge. On the other hand, we see that voice_mail_plan_yes and number_vmail_messages are also highly correlated, since if you don't have it contracted, you can't send voice messages.\n",
        "\n",
        "Therefore, we eliminate from the X set the recurring variables:"
      ],
      "metadata": {
        "id": "Mc2hLVMilMKk"
      }
    },
    {
      "cell_type": "code",
      "source": [
        "df_x = df_x.drop(['total_day_minutes','total_eve_minutes', 'total_intl_minutes','voice_mail_plan_yes'], axis=1)"
      ],
      "metadata": {
        "id": "-jClPW8slDxD"
      },
      "execution_count": 14,
      "outputs": []
    },
    {
      "cell_type": "markdown",
      "source": [
        "Finally, before we start creating and training the classification models, we will create a new **column that we can use to measure the *performance* of our models**. In this case, it will be a column that adds up the **customer charges for all their calls**. Thus, we will be able to know how much money is at stake if the customer leaves with another company or, in other words, the money we can potentially keep if we convince a customer who wants to leave to stay with our company."
      ],
      "metadata": {
        "id": "YviYZAJmnrqD"
      }
    },
    {
      "cell_type": "code",
      "source": [
        "df_x['total_charge'] = (df_final['total_day_charge'] + df_final['total_eve_charge'] + df_final['total_intl_charge'] + df_final['total_night_charge'])\n",
        "df_x"
      ],
      "metadata": {
        "id": "zmhFLt4oocxz",
        "colab": {
          "base_uri": "https://localhost:8080/",
          "height": 488
        },
        "outputId": "4f056727-87e8-4c33-a6b9-1d9de6d999b5"
      },
      "execution_count": 15,
      "outputs": [
        {
          "output_type": "execute_result",
          "data": {
            "text/plain": [
              "      international_plan_yes  number_customer_service_calls  total_day_charge  \\\n",
              "0                          0                              1             27.47   \n",
              "1                          0                              0             41.38   \n",
              "2                          1                              2             50.90   \n",
              "3                          1                              3             28.34   \n",
              "4                          0                              3             37.09   \n",
              "...                      ...                            ...               ...   \n",
              "4245                       0                              0             32.01   \n",
              "4246                       0                              3             30.24   \n",
              "4247                       0                              1             29.02   \n",
              "4248                       0                              2             40.07   \n",
              "4249                       0                              0             22.00   \n",
              "\n",
              "      number_vmail_messages  total_eve_charge  total_intl_charge  state  \\\n",
              "0                        26             16.62               3.70     35   \n",
              "1                         0             10.30               3.29     31   \n",
              "2                         0              5.26               1.78     35   \n",
              "3                         0             12.61               2.73     36   \n",
              "4                        24             29.62               2.03     19   \n",
              "...                     ...               ...                ...    ...   \n",
              "4245                      0             20.72               2.78     26   \n",
              "4246                      0             11.15               3.11     49   \n",
              "4247                      0             16.41               1.86     27   \n",
              "4248                     40             18.96               2.67     11   \n",
              "4249                     34             22.70               2.51     46   \n",
              "\n",
              "      area_code  total_charge  \n",
              "0           415         59.24  \n",
              "1           415         62.29  \n",
              "2           408         66.80  \n",
              "3           415         52.09  \n",
              "4           510         78.31  \n",
              "...         ...           ...  \n",
              "4245        415         65.13  \n",
              "4246        408         52.88  \n",
              "4247        408         53.10  \n",
              "4248        408         75.09  \n",
              "4249        415         54.18  \n",
              "\n",
              "[4250 rows x 9 columns]"
            ],
            "text/html": [
              "\n",
              "  <div id=\"df-135cca41-489d-4799-aac5-fea0a404f7f8\">\n",
              "    <div class=\"colab-df-container\">\n",
              "      <div>\n",
              "<style scoped>\n",
              "    .dataframe tbody tr th:only-of-type {\n",
              "        vertical-align: middle;\n",
              "    }\n",
              "\n",
              "    .dataframe tbody tr th {\n",
              "        vertical-align: top;\n",
              "    }\n",
              "\n",
              "    .dataframe thead th {\n",
              "        text-align: right;\n",
              "    }\n",
              "</style>\n",
              "<table border=\"1\" class=\"dataframe\">\n",
              "  <thead>\n",
              "    <tr style=\"text-align: right;\">\n",
              "      <th></th>\n",
              "      <th>international_plan_yes</th>\n",
              "      <th>number_customer_service_calls</th>\n",
              "      <th>total_day_charge</th>\n",
              "      <th>number_vmail_messages</th>\n",
              "      <th>total_eve_charge</th>\n",
              "      <th>total_intl_charge</th>\n",
              "      <th>state</th>\n",
              "      <th>area_code</th>\n",
              "      <th>total_charge</th>\n",
              "    </tr>\n",
              "  </thead>\n",
              "  <tbody>\n",
              "    <tr>\n",
              "      <th>0</th>\n",
              "      <td>0</td>\n",
              "      <td>1</td>\n",
              "      <td>27.47</td>\n",
              "      <td>26</td>\n",
              "      <td>16.62</td>\n",
              "      <td>3.70</td>\n",
              "      <td>35</td>\n",
              "      <td>415</td>\n",
              "      <td>59.24</td>\n",
              "    </tr>\n",
              "    <tr>\n",
              "      <th>1</th>\n",
              "      <td>0</td>\n",
              "      <td>0</td>\n",
              "      <td>41.38</td>\n",
              "      <td>0</td>\n",
              "      <td>10.30</td>\n",
              "      <td>3.29</td>\n",
              "      <td>31</td>\n",
              "      <td>415</td>\n",
              "      <td>62.29</td>\n",
              "    </tr>\n",
              "    <tr>\n",
              "      <th>2</th>\n",
              "      <td>1</td>\n",
              "      <td>2</td>\n",
              "      <td>50.90</td>\n",
              "      <td>0</td>\n",
              "      <td>5.26</td>\n",
              "      <td>1.78</td>\n",
              "      <td>35</td>\n",
              "      <td>408</td>\n",
              "      <td>66.80</td>\n",
              "    </tr>\n",
              "    <tr>\n",
              "      <th>3</th>\n",
              "      <td>1</td>\n",
              "      <td>3</td>\n",
              "      <td>28.34</td>\n",
              "      <td>0</td>\n",
              "      <td>12.61</td>\n",
              "      <td>2.73</td>\n",
              "      <td>36</td>\n",
              "      <td>415</td>\n",
              "      <td>52.09</td>\n",
              "    </tr>\n",
              "    <tr>\n",
              "      <th>4</th>\n",
              "      <td>0</td>\n",
              "      <td>3</td>\n",
              "      <td>37.09</td>\n",
              "      <td>24</td>\n",
              "      <td>29.62</td>\n",
              "      <td>2.03</td>\n",
              "      <td>19</td>\n",
              "      <td>510</td>\n",
              "      <td>78.31</td>\n",
              "    </tr>\n",
              "    <tr>\n",
              "      <th>...</th>\n",
              "      <td>...</td>\n",
              "      <td>...</td>\n",
              "      <td>...</td>\n",
              "      <td>...</td>\n",
              "      <td>...</td>\n",
              "      <td>...</td>\n",
              "      <td>...</td>\n",
              "      <td>...</td>\n",
              "      <td>...</td>\n",
              "    </tr>\n",
              "    <tr>\n",
              "      <th>4245</th>\n",
              "      <td>0</td>\n",
              "      <td>0</td>\n",
              "      <td>32.01</td>\n",
              "      <td>0</td>\n",
              "      <td>20.72</td>\n",
              "      <td>2.78</td>\n",
              "      <td>26</td>\n",
              "      <td>415</td>\n",
              "      <td>65.13</td>\n",
              "    </tr>\n",
              "    <tr>\n",
              "      <th>4246</th>\n",
              "      <td>0</td>\n",
              "      <td>3</td>\n",
              "      <td>30.24</td>\n",
              "      <td>0</td>\n",
              "      <td>11.15</td>\n",
              "      <td>3.11</td>\n",
              "      <td>49</td>\n",
              "      <td>408</td>\n",
              "      <td>52.88</td>\n",
              "    </tr>\n",
              "    <tr>\n",
              "      <th>4247</th>\n",
              "      <td>0</td>\n",
              "      <td>1</td>\n",
              "      <td>29.02</td>\n",
              "      <td>0</td>\n",
              "      <td>16.41</td>\n",
              "      <td>1.86</td>\n",
              "      <td>27</td>\n",
              "      <td>408</td>\n",
              "      <td>53.10</td>\n",
              "    </tr>\n",
              "    <tr>\n",
              "      <th>4248</th>\n",
              "      <td>0</td>\n",
              "      <td>2</td>\n",
              "      <td>40.07</td>\n",
              "      <td>40</td>\n",
              "      <td>18.96</td>\n",
              "      <td>2.67</td>\n",
              "      <td>11</td>\n",
              "      <td>408</td>\n",
              "      <td>75.09</td>\n",
              "    </tr>\n",
              "    <tr>\n",
              "      <th>4249</th>\n",
              "      <td>0</td>\n",
              "      <td>0</td>\n",
              "      <td>22.00</td>\n",
              "      <td>34</td>\n",
              "      <td>22.70</td>\n",
              "      <td>2.51</td>\n",
              "      <td>46</td>\n",
              "      <td>415</td>\n",
              "      <td>54.18</td>\n",
              "    </tr>\n",
              "  </tbody>\n",
              "</table>\n",
              "<p>4250 rows × 9 columns</p>\n",
              "</div>\n",
              "      <button class=\"colab-df-convert\" onclick=\"convertToInteractive('df-135cca41-489d-4799-aac5-fea0a404f7f8')\"\n",
              "              title=\"Convert this dataframe to an interactive table.\"\n",
              "              style=\"display:none;\">\n",
              "        \n",
              "  <svg xmlns=\"http://www.w3.org/2000/svg\" height=\"24px\"viewBox=\"0 0 24 24\"\n",
              "       width=\"24px\">\n",
              "    <path d=\"M0 0h24v24H0V0z\" fill=\"none\"/>\n",
              "    <path d=\"M18.56 5.44l.94 2.06.94-2.06 2.06-.94-2.06-.94-.94-2.06-.94 2.06-2.06.94zm-11 1L8.5 8.5l.94-2.06 2.06-.94-2.06-.94L8.5 2.5l-.94 2.06-2.06.94zm10 10l.94 2.06.94-2.06 2.06-.94-2.06-.94-.94-2.06-.94 2.06-2.06.94z\"/><path d=\"M17.41 7.96l-1.37-1.37c-.4-.4-.92-.59-1.43-.59-.52 0-1.04.2-1.43.59L10.3 9.45l-7.72 7.72c-.78.78-.78 2.05 0 2.83L4 21.41c.39.39.9.59 1.41.59.51 0 1.02-.2 1.41-.59l7.78-7.78 2.81-2.81c.8-.78.8-2.07 0-2.86zM5.41 20L4 18.59l7.72-7.72 1.47 1.35L5.41 20z\"/>\n",
              "  </svg>\n",
              "      </button>\n",
              "      \n",
              "  <style>\n",
              "    .colab-df-container {\n",
              "      display:flex;\n",
              "      flex-wrap:wrap;\n",
              "      gap: 12px;\n",
              "    }\n",
              "\n",
              "    .colab-df-convert {\n",
              "      background-color: #E8F0FE;\n",
              "      border: none;\n",
              "      border-radius: 50%;\n",
              "      cursor: pointer;\n",
              "      display: none;\n",
              "      fill: #1967D2;\n",
              "      height: 32px;\n",
              "      padding: 0 0 0 0;\n",
              "      width: 32px;\n",
              "    }\n",
              "\n",
              "    .colab-df-convert:hover {\n",
              "      background-color: #E2EBFA;\n",
              "      box-shadow: 0px 1px 2px rgba(60, 64, 67, 0.3), 0px 1px 3px 1px rgba(60, 64, 67, 0.15);\n",
              "      fill: #174EA6;\n",
              "    }\n",
              "\n",
              "    [theme=dark] .colab-df-convert {\n",
              "      background-color: #3B4455;\n",
              "      fill: #D2E3FC;\n",
              "    }\n",
              "\n",
              "    [theme=dark] .colab-df-convert:hover {\n",
              "      background-color: #434B5C;\n",
              "      box-shadow: 0px 1px 3px 1px rgba(0, 0, 0, 0.15);\n",
              "      filter: drop-shadow(0px 1px 2px rgba(0, 0, 0, 0.3));\n",
              "      fill: #FFFFFF;\n",
              "    }\n",
              "  </style>\n",
              "\n",
              "      <script>\n",
              "        const buttonEl =\n",
              "          document.querySelector('#df-135cca41-489d-4799-aac5-fea0a404f7f8 button.colab-df-convert');\n",
              "        buttonEl.style.display =\n",
              "          google.colab.kernel.accessAllowed ? 'block' : 'none';\n",
              "\n",
              "        async function convertToInteractive(key) {\n",
              "          const element = document.querySelector('#df-135cca41-489d-4799-aac5-fea0a404f7f8');\n",
              "          const dataTable =\n",
              "            await google.colab.kernel.invokeFunction('convertToInteractive',\n",
              "                                                     [key], {});\n",
              "          if (!dataTable) return;\n",
              "\n",
              "          const docLinkHtml = 'Like what you see? Visit the ' +\n",
              "            '<a target=\"_blank\" href=https://colab.research.google.com/notebooks/data_table.ipynb>data table notebook</a>'\n",
              "            + ' to learn more about interactive tables.';\n",
              "          element.innerHTML = '';\n",
              "          dataTable['output_type'] = 'display_data';\n",
              "          await google.colab.output.renderOutput(dataTable, element);\n",
              "          const docLink = document.createElement('div');\n",
              "          docLink.innerHTML = docLinkHtml;\n",
              "          element.appendChild(docLink);\n",
              "        }\n",
              "      </script>\n",
              "    </div>\n",
              "  </div>\n",
              "  "
            ]
          },
          "metadata": {},
          "execution_count": 15
        }
      ]
    },
    {
      "cell_type": "markdown",
      "source": [
        "## 3. Classification Models\n",
        "\n",
        "1. Select several classifiers.\n",
        "2. Train the classifiers and measure their *performance*.\n",
        "3. Adjust the different parameters to try to improve them.\n",
        "4. Compare the *performance* metrics between classifiers."
      ],
      "metadata": {
        "id": "wQqDF34qpAGo"
      }
    },
    {
      "cell_type": "markdown",
      "source": [
        "### Classifier #1 - k-Nearest Neighbors"
      ],
      "metadata": {
        "id": "XIVXGo1uEKkF"
      }
    },
    {
      "cell_type": "code",
      "source": [
        "from sklearn.model_selection import train_test_split\n",
        "from sklearn.neighbors import KNeighborsClassifier\n",
        "from sklearn.metrics import confusion_matrix\n",
        "from sklearn.metrics import classification_report\n",
        "\n",
        "# This X set is reduced, since it was found that without these variables \n",
        "# the models performed better. It makes sense given that the correlation \n",
        "# was very small. Still, it was worth a try.\n",
        "\n",
        "new_df_x = df_x.drop(['state', 'area_code'], axis=1)\n",
        "\n",
        "# Split train and test sets\n",
        "x_train, x_test, y_train, y_test = train_test_split(new_df_x, df_y, test_size=0.2, random_state=0, stratify=df_y)\n",
        "\n",
        "# Create the classifier\n",
        "clf = KNeighborsClassifier(n_neighbors=3)\n",
        "\n",
        "# Train the classifier\n",
        "clf.fit(x_train, y_train.values.ravel())\n",
        "\n",
        "# Create a confussion matrix\n",
        "y_pred = clf.predict(x_test)\n",
        "cm = confusion_matrix(y_test, y_pred)\n",
        "\n",
        "print('Confussion Matrix ------------------')\n",
        "print(cm)\n",
        "\n",
        "# Classification report\n",
        "target_names = ['0', '1']\n",
        "\n",
        "print('\\nClassification report ------------------')\n",
        "report = classification_report(y_test, y_pred, target_names=target_names, output_dict=True)\n",
        "print('Class 0 (No Churning) %s: ' % report['0'])\n",
        "print('Class 1 (Churning) %s: ' % report['1'])\n",
        "\n",
        "# We calculate the amount of money that could not be lost if churning were potentially prevented.\n",
        "# Total number of samples in the test\n",
        "a = x_test.total_charge\n",
        "# Number of true positives (No churn = 0, Churn = 1)\n",
        "ind = (np.array(y_pred) == 1) & (y_test.values.reshape(850) == 1)\n",
        "amount_detected = np.sum(a[ind]) \n",
        "# Actual total amount of churning\n",
        "ind = (y_test.values.reshape(850) == 1)\n",
        "amount_total = np.sum( a[ ind ] )\n",
        "\n",
        "print('\\nAmount ------------------ \\nPotentially Retrieved Money = %.2f \\nLost Money = %.2f \\nSuccess Percentage = %.2f%%\\n' % (amount_detected, amount_total, (amount_detected/amount_total)*100))"
      ],
      "metadata": {
        "id": "7rS3UKaFEAx3",
        "colab": {
          "base_uri": "https://localhost:8080/"
        },
        "outputId": "9819b23f-3a37-461f-9c5f-a80c12cbbfff"
      },
      "execution_count": 16,
      "outputs": [
        {
          "output_type": "stream",
          "name": "stdout",
          "text": [
            "Confussion Matrix ------------------\n",
            "[[722   8]\n",
            " [ 56  64]]\n",
            "\n",
            "Classification report ------------------\n",
            "Class 0 (No Churning) {'precision': 0.9280205655526992, 'recall': 0.989041095890411, 'f1-score': 0.9575596816976127, 'support': 730}: \n",
            "Class 1 (Churning) {'precision': 0.8888888888888888, 'recall': 0.5333333333333333, 'f1-score': 0.6666666666666667, 'support': 120}: \n",
            "\n",
            "Amount ------------------ \n",
            "Potentially Retrieved Money = 4743.67 \n",
            "Lost Money = 7968.37 \n",
            "Success Percentage = 59.53%\n",
            "\n"
          ]
        }
      ]
    },
    {
      "cell_type": "markdown",
      "source": [
        "### Classifier #2 - Bagging with k-Nearest Neighbors"
      ],
      "metadata": {
        "id": "CmPa21YlfBp7"
      }
    },
    {
      "cell_type": "code",
      "source": [
        "from sklearn.ensemble import BaggingClassifier\n",
        "\n",
        "x_train, x_test, y_train, y_test = train_test_split(new_df_x, df_y, test_size=0.2, random_state=0, stratify=df_y)\n",
        "\n",
        "clf = BaggingClassifier(KNeighborsClassifier(),\n",
        "                        n_estimators=20,\n",
        "                        max_samples=0.95, \n",
        "                        max_features=0.70, \n",
        "                        random_state=0)\n",
        "\n",
        "clf.fit(x_train, y_train.values.ravel())\n",
        "\n",
        "y_pred = clf.predict(x_test)\n",
        "cm = confusion_matrix(y_test, y_pred)\n",
        "\n",
        "print('Confussion Matrix ------------------')\n",
        "print(cm)\n",
        "\n",
        "target_names = ['0', '1']\n",
        "\n",
        "print('\\nClassification report ------------------')\n",
        "report = classification_report(y_test, y_pred, target_names=target_names, output_dict=True)\n",
        "print('Class 0 (No Churning) %s: ' % report['0'])\n",
        "print('Class 1 (Churning) %s: ' % report['1'])\n",
        "\n",
        "a = x_test.total_charge\n",
        "ind = (np.array(y_pred) == 1) & (y_test.values.reshape(850) == 1)\n",
        "amount_detected = np.sum(a[ind]) \n",
        "ind = (y_test.values.reshape(850) == 1)\n",
        "amount_total = np.sum( a[ ind ] ) \n",
        "\n",
        "print('\\nAmount ------------------ \\nPotentially Retrieved Money = %.2f \\nLost Money = %.2f \\nSuccess Percentage = %.2f%%\\n' % (amount_detected, amount_total, (amount_detected/amount_total)*100))"
      ],
      "metadata": {
        "id": "wrm_M-RdfLnS",
        "colab": {
          "base_uri": "https://localhost:8080/"
        },
        "outputId": "e7062796-373b-45ea-8ff0-f847817b14ec"
      },
      "execution_count": 17,
      "outputs": [
        {
          "output_type": "stream",
          "name": "stdout",
          "text": [
            "Confussion Matrix ------------------\n",
            "[[725   5]\n",
            " [ 61  59]]\n",
            "\n",
            "Classification report ------------------\n",
            "Class 0 (No Churning) {'precision': 0.9223918575063613, 'recall': 0.9931506849315068, 'f1-score': 0.9564643799472295, 'support': 730}: \n",
            "Class 1 (Churning) {'precision': 0.921875, 'recall': 0.49166666666666664, 'f1-score': 0.6413043478260869, 'support': 120}: \n",
            "\n",
            "Amount ------------------ \n",
            "Potentially Retrieved Money = 4438.65 \n",
            "Lost Money = 7968.37 \n",
            "Success Percentage = 55.70%\n",
            "\n"
          ]
        }
      ]
    },
    {
      "cell_type": "markdown",
      "source": [
        "### Classifier #3 - Decision Tree"
      ],
      "metadata": {
        "id": "UiCnXO76Ttjy"
      }
    },
    {
      "cell_type": "code",
      "source": [
        "from sklearn.tree import DecisionTreeClassifier\n",
        "\n",
        "x_train, x_test, y_train, y_test = train_test_split(new_df_x, df_y, test_size=0.3, random_state=0, stratify=df_y)\n",
        "\n",
        "clf = DecisionTreeClassifier(max_leaf_nodes=50, \n",
        "                             max_depth=15, \n",
        "                             min_samples_split=7, \n",
        "                             max_features=7, \n",
        "                             splitter='best',\n",
        "                             criterion='entropy',\n",
        "                             random_state = 0)\n",
        "\n",
        "# IMPORTANT ANNOTATION!!!\n",
        "# The classifier was optimized by brute force using for-loops with each of the \n",
        "# parameters and selecting the combination that maximized the Success Percentage.\n",
        "\n",
        "clf.fit(x_train, y_train.values.ravel())\n",
        "\n",
        "y_pred = clf.predict(x_test)\n",
        "cm = confusion_matrix(y_test, y_pred)\n",
        "\n",
        "print('Confussion Matrix ------------------')\n",
        "print(cm)\n",
        "\n",
        "target_names = ['0', '1']\n",
        "\n",
        "print('\\nClassification report ------------------')\n",
        "report = classification_report(y_test, y_pred, target_names=target_names, output_dict=True)\n",
        "print('Class 0 (No Churning) %s: ' % report['0'])\n",
        "print('Class 1 (Churning) %s: ' % report['1'])\n",
        "\n",
        "a = x_test.total_charge\n",
        "ind = (np.array(y_pred) == 1) & (y_test.values.reshape(1275) == 1)\n",
        "amount_detected = np.sum(a[ind]) \n",
        "ind = (y_test.values.reshape(1275) == 1)\n",
        "amount_total = np.sum( a[ ind ] ) \n",
        "\n",
        "print('\\nAmount ------------------ \\nPotentially Retrieved Money = %.2f \\nLost Money = %.2f \\nSuccess Percentage = %.2f%%\\n' % (amount_detected, amount_total, (amount_detected/amount_total)*100))"
      ],
      "metadata": {
        "id": "KGxb49QETtjy",
        "colab": {
          "base_uri": "https://localhost:8080/"
        },
        "outputId": "9249f2e8-644b-4218-f35e-e071784ebcc0"
      },
      "execution_count": 18,
      "outputs": [
        {
          "output_type": "stream",
          "name": "stdout",
          "text": [
            "Confussion Matrix ------------------\n",
            "[[1076   20]\n",
            " [  38  141]]\n",
            "\n",
            "Classification report ------------------\n",
            "Class 0 (No Churning) {'precision': 0.9658886894075404, 'recall': 0.9817518248175182, 'f1-score': 0.9737556561085973, 'support': 1096}: \n",
            "Class 1 (Churning) {'precision': 0.8757763975155279, 'recall': 0.7877094972067039, 'f1-score': 0.8294117647058822, 'support': 179}: \n",
            "\n",
            "Amount ------------------ \n",
            "Potentially Retrieved Money = 9548.10 \n",
            "Lost Money = 11765.60 \n",
            "Success Percentage = 81.15%\n",
            "\n"
          ]
        }
      ]
    },
    {
      "cell_type": "markdown",
      "source": [
        "### Classifier #4 - Bagging with Decision Trees"
      ],
      "metadata": {
        "id": "EzK9Es0LgBD0"
      }
    },
    {
      "cell_type": "code",
      "source": [
        "x_train, x_test, y_train, y_test = train_test_split(new_df_x, df_y, test_size=0.2, random_state=0, stratify=df_y)\n",
        "\n",
        "clf = BaggingClassifier(DecisionTreeClassifier(max_leaf_nodes=50, \n",
        "                                               max_depth=15, \n",
        "                                               min_samples_split=7, \n",
        "                                               max_features=0.9, \n",
        "                                               splitter='best',\n",
        "                                               criterion='entropy'),\n",
        "                        n_estimators=50,\n",
        "                        max_samples=0.9, \n",
        "                        max_features=0.9, \n",
        "                        random_state=0)\n",
        "\n",
        "clf.fit(x_train, y_train.values.ravel())\n",
        "\n",
        "y_pred = clf.predict(x_test)\n",
        "cm = confusion_matrix(y_test, y_pred)\n",
        "\n",
        "print('Confussion Matrix ------------------')\n",
        "print(cm)\n",
        "\n",
        "target_names = ['0', '1']\n",
        "\n",
        "print('\\nClassification report ------------------')\n",
        "report = classification_report(y_test, y_pred, target_names=target_names, output_dict=True)\n",
        "print('Class 0 (No Churning) %s: ' % report['0'])\n",
        "print('Class 1 (Churning) %s: ' % report['1'])\n",
        "\n",
        "a = x_test.total_charge\n",
        "ind = (np.array(y_pred) == 1) & (y_test.values.reshape(len(y_test)) == 1)\n",
        "amount_detected = np.sum(a[ind]) \n",
        "ind = (y_test.values.reshape(len(y_test)) == 1)\n",
        "amount_total = np.sum( a[ ind ] ) \n",
        "\n",
        "print('\\nAmount ------------------ \\nPotentially Retrieved Money = %.2f \\nLost Money = %.2f \\nSuccess Percentage = %.2f%%\\n' % (amount_detected, amount_total, (amount_detected/amount_total)*100))"
      ],
      "metadata": {
        "id": "F0jd3KCxgBD0",
        "colab": {
          "base_uri": "https://localhost:8080/"
        },
        "outputId": "c97a51c8-c0b9-4cd8-b747-9efb63ae3341"
      },
      "execution_count": 19,
      "outputs": [
        {
          "output_type": "stream",
          "name": "stdout",
          "text": [
            "Confussion Matrix ------------------\n",
            "[[730   0]\n",
            " [ 29  91]]\n",
            "\n",
            "Classification report ------------------\n",
            "Class 0 (No Churning) {'precision': 0.9617918313570487, 'recall': 1.0, 'f1-score': 0.9805238415043652, 'support': 730}: \n",
            "Class 1 (Churning) {'precision': 1.0, 'recall': 0.7583333333333333, 'f1-score': 0.8625592417061612, 'support': 120}: \n",
            "\n",
            "Amount ------------------ \n",
            "Potentially Retrieved Money = 6203.97 \n",
            "Lost Money = 7968.37 \n",
            "Success Percentage = 77.86%\n",
            "\n"
          ]
        }
      ]
    },
    {
      "cell_type": "markdown",
      "source": [
        "### Classifier #5 - Random Forest"
      ],
      "metadata": {
        "id": "DHzAOGvZgXUO"
      }
    },
    {
      "cell_type": "code",
      "source": [
        "from sklearn.ensemble import RandomForestClassifier\n",
        "\n",
        "x_train, x_test, y_train, y_test = train_test_split(new_df_x, df_y, test_size=0.2, random_state=0, stratify=df_y)\n",
        "\n",
        "clf = RandomForestClassifier(n_estimators=1000,\n",
        "                             max_depth=30,\n",
        "                             max_leaf_nodes=15,\n",
        "                             max_features='auto',\n",
        "                             random_state=0)\n",
        "\n",
        "clf.fit(x_train, y_train.values.ravel())\n",
        "\n",
        "y_pred = clf.predict(x_test)\n",
        "cm = confusion_matrix(y_test, y_pred)\n",
        "\n",
        "print('Confussion Matrix ------------------')\n",
        "print(cm)\n",
        "\n",
        "target_names = ['0', '1']\n",
        "\n",
        "print('\\nClassification report ------------------')\n",
        "report = classification_report(y_test, y_pred, target_names=target_names, output_dict=True)\n",
        "print('Class 0 (No Churning) %s: ' % report['0'])\n",
        "print('Class 1 (Churning) %s: ' % report['1'])\n",
        "\n",
        "a = x_test.total_charge\n",
        "ind = (np.array(y_pred) == 1) & (y_test.values.reshape(len(y_test)) == 1)\n",
        "amount_detected = np.sum(a[ind]) \n",
        "ind = (y_test.values.reshape(len(y_test)) == 1)\n",
        "amount_total = np.sum( a[ ind ] ) \n",
        "\n",
        "print('\\nAmount ------------------ \\nPotentially Retrieved Money = %.2f \\nLost Money = %.2f \\nSuccess Percentage = %.2f%%\\n' % (amount_detected, amount_total, (amount_detected/amount_total)*100))"
      ],
      "metadata": {
        "id": "C_VW9wPMgXUP",
        "colab": {
          "base_uri": "https://localhost:8080/"
        },
        "outputId": "08d77529-ee2f-4789-c0b7-e78ddfe5d0c5"
      },
      "execution_count": 20,
      "outputs": [
        {
          "output_type": "stream",
          "name": "stdout",
          "text": [
            "Confussion Matrix ------------------\n",
            "[[729   1]\n",
            " [ 29  91]]\n",
            "\n",
            "Classification report ------------------\n",
            "Class 0 (No Churning) {'precision': 0.9617414248021108, 'recall': 0.9986301369863013, 'f1-score': 0.9798387096774194, 'support': 730}: \n",
            "Class 1 (Churning) {'precision': 0.9891304347826086, 'recall': 0.7583333333333333, 'f1-score': 0.8584905660377358, 'support': 120}: \n",
            "\n",
            "Amount ------------------ \n",
            "Potentially Retrieved Money = 6203.97 \n",
            "Lost Money = 7968.37 \n",
            "Success Percentage = 77.86%\n",
            "\n"
          ]
        }
      ]
    },
    {
      "cell_type": "markdown",
      "source": [
        "### Classifier #6 - Naive Bayes"
      ],
      "metadata": {
        "id": "JJs9jUBkUiOx"
      }
    },
    {
      "cell_type": "code",
      "source": [
        "from sklearn.naive_bayes import GaussianNB\n",
        "\n",
        "x_train, x_test, y_train, y_test = train_test_split(df_x, df_y, test_size=0.3, random_state=0, stratify=df_y)\n",
        "\n",
        "clf = GaussianNB(priors = [1- 0.1407, 0.1407])\n",
        "\n",
        "clf.fit(x_train, y_train.values.ravel())\n",
        "\n",
        "print('Prior Probabilities ------------------')\n",
        "print( clf.class_prior_ )\n",
        "\n",
        "y_pred = clf.predict(x_test)\n",
        "cm = confusion_matrix(y_test, y_pred)\n",
        "\n",
        "print('\\nConfussion Matrix ------------------')\n",
        "print(cm)\n",
        "\n",
        "target_names = ['0', '1']\n",
        "\n",
        "print('\\nClassification report ------------------')\n",
        "report = classification_report(y_test, y_pred, target_names=target_names, output_dict=True)\n",
        "print('Class 0 (No Churning) %s: ' % report['0'])\n",
        "print('Class 1 (Churning) %s: ' % report['1'])\n",
        "\n",
        "a = x_test.total_charge\n",
        "ind = (np.array(y_pred) == 1) & (y_test.values.reshape(1275) == 1)\n",
        "amount_detected = np.sum(a[ind]) \n",
        "ind = (y_test.values.reshape(1275) == 1)\n",
        "amount_total = np.sum( a[ ind ] ) \n",
        "\n",
        "print('\\nAmount ------------------ \\nPotentially Retrieved Money = %.2f \\nLost Money = %.2f \\nSuccess Percentage = %.2f%%\\n' % (amount_detected, amount_total, (amount_detected/amount_total)*100))"
      ],
      "metadata": {
        "id": "F_NaZkzzUiOx",
        "colab": {
          "base_uri": "https://localhost:8080/"
        },
        "outputId": "13809383-3eb2-47bb-9079-f4e53cb15624"
      },
      "execution_count": 21,
      "outputs": [
        {
          "output_type": "stream",
          "name": "stdout",
          "text": [
            "Prior Probabilities ------------------\n",
            "[0.8593 0.1407]\n",
            "\n",
            "Confussion Matrix ------------------\n",
            "[[1001   95]\n",
            " [  83   96]]\n",
            "\n",
            "Classification report ------------------\n",
            "Class 0 (No Churning) {'precision': 0.9234317343173432, 'recall': 0.9133211678832117, 'f1-score': 0.918348623853211, 'support': 1096}: \n",
            "Class 1 (Churning) {'precision': 0.5026178010471204, 'recall': 0.5363128491620112, 'f1-score': 0.518918918918919, 'support': 179}: \n",
            "\n",
            "Amount ------------------ \n",
            "Potentially Retrieved Money = 6487.41 \n",
            "Lost Money = 11765.60 \n",
            "Success Percentage = 55.14%\n",
            "\n"
          ]
        }
      ]
    },
    {
      "cell_type": "markdown",
      "source": [
        "### Classifier #7 - Fully Connected Neural Network (FCN)"
      ],
      "metadata": {
        "id": "4vILV6DZVu6m"
      }
    },
    {
      "cell_type": "code",
      "source": [
        "from tensorflow.keras.models import Sequential\n",
        "from tensorflow.keras.layers import Dense, Dropout, Activation\n",
        "from tensorflow.keras.utils import to_categorical\n",
        "\n",
        "# Define and transform the variables to a valid format for the neural network.\n",
        "x = df_x.values \n",
        "y = df_y.values\n",
        "\n",
        "x_train, x_test, y_train, y_test = train_test_split(x, y, test_size=0.3, random_state=0, stratify=df_y)\n",
        "\n",
        "# Create the NN\n",
        "model = Sequential()\n",
        "model.add( Dense(100, activation='relu', input_shape=(9,)) ) # Primera cama con 100 neuronas y función de activación ReLU\n",
        "model.add( Dense(150, activation='relu') ) # Capa oculta con 150 neuronas y función de activación ReLU\n",
        "model.add( Dropout(0.3) )\n",
        "model.add( Dense(50, activation='relu') ) # Capa oculta con 50 neuronas y función de activación ReLU\n",
        "model.add( Dense(2, activation='softmax') ) # Capa de salida con 2 neuronas (una por categoría) y función de activación softmax\n",
        "\n",
        "# Create a summary showing the layers, their shapes and parameters.\n",
        "model.summary()\n",
        "\n",
        "# Configure the optimizer, loss function and model metrics\n",
        "model.compile(optimizer='adam', \n",
        "              loss='categorical_crossentropy', \n",
        "              metrics=['accuracy'])\n",
        "\n",
        "# Train the model, using a batch size of 64 and 200 epochs.\n",
        "history = model.fit(\n",
        "    x_train,\n",
        "    to_categorical(y_train),\n",
        "    epochs=200,\n",
        "    batch_size=64,\n",
        "    validation_data=(x_test, to_categorical(y_test)))\n",
        "\n",
        "# ACCURACY evolution chart\n",
        "plt.plot(history.history['accuracy'])\n",
        "plt.plot(history.history['val_accuracy'],'r')\n",
        "plt.title('model accuracy')\n",
        "plt.ylabel('accuracy')\n",
        "plt.xlabel('epoch')\n",
        "plt.show()\n",
        "\n",
        "# LOSS evolution chart\n",
        "plt.plot(history.history['loss'])\n",
        "plt.plot(history.history['val_loss'],'r')\n",
        "plt.title('model loss')\n",
        "plt.ylabel('loss')\n",
        "plt.xlabel('epoch')\n",
        "plt.show()\n",
        "\n",
        "# Confussion Matrix\n",
        "y_pred = pd.DataFrame(model.predict(x_test).round(0).astype('int'))[0]\n",
        "cm = confusion_matrix(y_test, y_pred)\n",
        "\n",
        "print('\\nConfussion Matrix ------------------')\n",
        "print(cm)\n",
        "\n",
        "# Classification Report\n",
        "target_names = ['0', '1']\n",
        "\n",
        "print('\\nClassification report ------------------')\n",
        "report = classification_report(y_test, y_pred, target_names=target_names, output_dict=True)\n",
        "print('Class 0 (No Churning) %s: ' % report['0'])\n",
        "print('Class 1 (Churning) %s: ' % report['1'])\n",
        "\n",
        "a = x_test[:,-1]\n",
        "ind = (y_pred == 1) & (y_test.reshape(1275) == 1)\n",
        "amount_detected = np.sum(a[ind]) \n",
        "ind = (y_test.reshape(1275) == 1)\n",
        "amount_total = np.sum( a[ ind ] ) \n",
        "\n",
        "print('\\nAmount ------------------ \\nPotentially Retrieved Money = %.2f \\nLost Money = %.2f \\nSuccess Percentage = %.2f%%\\n' % (amount_detected, amount_total, (amount_detected/amount_total)*100))"
      ],
      "metadata": {
        "id": "jvyh3dBLVu6n",
        "colab": {
          "base_uri": "https://localhost:8080/",
          "height": 1000
        },
        "outputId": "07b8240a-5dcf-436a-c746-7e80bc7d01a4"
      },
      "execution_count": 22,
      "outputs": [
        {
          "output_type": "stream",
          "name": "stdout",
          "text": [
            "Model: \"sequential\"\n",
            "_________________________________________________________________\n",
            " Layer (type)                Output Shape              Param #   \n",
            "=================================================================\n",
            " dense (Dense)               (None, 100)               1000      \n",
            "                                                                 \n",
            " dense_1 (Dense)             (None, 150)               15150     \n",
            "                                                                 \n",
            " dropout (Dropout)           (None, 150)               0         \n",
            "                                                                 \n",
            " dense_2 (Dense)             (None, 50)                7550      \n",
            "                                                                 \n",
            " dense_3 (Dense)             (None, 2)                 102       \n",
            "                                                                 \n",
            "=================================================================\n",
            "Total params: 23,802\n",
            "Trainable params: 23,802\n",
            "Non-trainable params: 0\n",
            "_________________________________________________________________\n",
            "Epoch 1/200\n",
            "47/47 [==============================] - 1s 8ms/step - loss: 7.3088 - accuracy: 0.7405 - val_loss: 2.3234 - val_accuracy: 0.8596\n",
            "Epoch 2/200\n",
            "47/47 [==============================] - 0s 4ms/step - loss: 1.9044 - accuracy: 0.7808 - val_loss: 0.6063 - val_accuracy: 0.8596\n",
            "Epoch 3/200\n",
            "47/47 [==============================] - 0s 4ms/step - loss: 0.9079 - accuracy: 0.7829 - val_loss: 0.5834 - val_accuracy: 0.8596\n",
            "Epoch 4/200\n",
            "47/47 [==============================] - 0s 4ms/step - loss: 0.5978 - accuracy: 0.8121 - val_loss: 0.3744 - val_accuracy: 0.8792\n",
            "Epoch 5/200\n",
            "47/47 [==============================] - 0s 4ms/step - loss: 0.4859 - accuracy: 0.8329 - val_loss: 0.3580 - val_accuracy: 0.8878\n",
            "Epoch 6/200\n",
            "47/47 [==============================] - 0s 5ms/step - loss: 0.4432 - accuracy: 0.8403 - val_loss: 0.3583 - val_accuracy: 0.8776\n",
            "Epoch 7/200\n",
            "47/47 [==============================] - 0s 4ms/step - loss: 0.4005 - accuracy: 0.8652 - val_loss: 0.3617 - val_accuracy: 0.8745\n",
            "Epoch 8/200\n",
            "47/47 [==============================] - 0s 4ms/step - loss: 0.4047 - accuracy: 0.8696 - val_loss: 0.3484 - val_accuracy: 0.8894\n",
            "Epoch 9/200\n",
            "47/47 [==============================] - 0s 5ms/step - loss: 0.3957 - accuracy: 0.8682 - val_loss: 0.3581 - val_accuracy: 0.8847\n",
            "Epoch 10/200\n",
            "47/47 [==============================] - 0s 4ms/step - loss: 0.3903 - accuracy: 0.8692 - val_loss: 0.3761 - val_accuracy: 0.8910\n",
            "Epoch 11/200\n",
            "47/47 [==============================] - 0s 4ms/step - loss: 0.3852 - accuracy: 0.8743 - val_loss: 0.3547 - val_accuracy: 0.8800\n",
            "Epoch 12/200\n",
            "47/47 [==============================] - 0s 4ms/step - loss: 0.3845 - accuracy: 0.8669 - val_loss: 0.3558 - val_accuracy: 0.8871\n",
            "Epoch 13/200\n",
            "47/47 [==============================] - 0s 4ms/step - loss: 0.3785 - accuracy: 0.8780 - val_loss: 0.3592 - val_accuracy: 0.8933\n",
            "Epoch 14/200\n",
            "47/47 [==============================] - 0s 5ms/step - loss: 0.3740 - accuracy: 0.8760 - val_loss: 0.3502 - val_accuracy: 0.8918\n",
            "Epoch 15/200\n",
            "47/47 [==============================] - 0s 4ms/step - loss: 0.3728 - accuracy: 0.8797 - val_loss: 0.3386 - val_accuracy: 0.8933\n",
            "Epoch 16/200\n",
            "47/47 [==============================] - 0s 5ms/step - loss: 0.3654 - accuracy: 0.8800 - val_loss: 0.3588 - val_accuracy: 0.8902\n",
            "Epoch 17/200\n",
            "47/47 [==============================] - 0s 4ms/step - loss: 0.3819 - accuracy: 0.8726 - val_loss: 0.3632 - val_accuracy: 0.8933\n",
            "Epoch 18/200\n",
            "47/47 [==============================] - 0s 4ms/step - loss: 0.3638 - accuracy: 0.8770 - val_loss: 0.3504 - val_accuracy: 0.8902\n",
            "Epoch 19/200\n",
            "47/47 [==============================] - 0s 4ms/step - loss: 0.3684 - accuracy: 0.8783 - val_loss: 0.3390 - val_accuracy: 0.8957\n",
            "Epoch 20/200\n",
            "47/47 [==============================] - 0s 5ms/step - loss: 0.3687 - accuracy: 0.8803 - val_loss: 0.3648 - val_accuracy: 0.8988\n",
            "Epoch 21/200\n",
            "47/47 [==============================] - 0s 4ms/step - loss: 0.3766 - accuracy: 0.8760 - val_loss: 0.3746 - val_accuracy: 0.8894\n",
            "Epoch 22/200\n",
            "47/47 [==============================] - 0s 5ms/step - loss: 0.3708 - accuracy: 0.8787 - val_loss: 0.3389 - val_accuracy: 0.8949\n",
            "Epoch 23/200\n",
            "47/47 [==============================] - 0s 5ms/step - loss: 0.3622 - accuracy: 0.8847 - val_loss: 0.3592 - val_accuracy: 0.8784\n",
            "Epoch 24/200\n",
            "47/47 [==============================] - 0s 4ms/step - loss: 0.3610 - accuracy: 0.8837 - val_loss: 0.3377 - val_accuracy: 0.8980\n",
            "Epoch 25/200\n",
            "47/47 [==============================] - 0s 4ms/step - loss: 0.3627 - accuracy: 0.8770 - val_loss: 0.3304 - val_accuracy: 0.8965\n",
            "Epoch 26/200\n",
            "47/47 [==============================] - 0s 4ms/step - loss: 0.3569 - accuracy: 0.8834 - val_loss: 0.3277 - val_accuracy: 0.8988\n",
            "Epoch 27/200\n",
            "47/47 [==============================] - 0s 4ms/step - loss: 0.3573 - accuracy: 0.8824 - val_loss: 0.3300 - val_accuracy: 0.8965\n",
            "Epoch 28/200\n",
            "47/47 [==============================] - 0s 5ms/step - loss: 0.3617 - accuracy: 0.8813 - val_loss: 0.3412 - val_accuracy: 0.8965\n",
            "Epoch 29/200\n",
            "47/47 [==============================] - 0s 4ms/step - loss: 0.3558 - accuracy: 0.8834 - val_loss: 0.3799 - val_accuracy: 0.8831\n",
            "Epoch 30/200\n",
            "47/47 [==============================] - 0s 4ms/step - loss: 0.3533 - accuracy: 0.8827 - val_loss: 0.3420 - val_accuracy: 0.8808\n",
            "Epoch 31/200\n",
            "47/47 [==============================] - 0s 5ms/step - loss: 0.3601 - accuracy: 0.8820 - val_loss: 0.3409 - val_accuracy: 0.8965\n",
            "Epoch 32/200\n",
            "47/47 [==============================] - 0s 5ms/step - loss: 0.3560 - accuracy: 0.8813 - val_loss: 0.3488 - val_accuracy: 0.8753\n",
            "Epoch 33/200\n",
            "47/47 [==============================] - 0s 4ms/step - loss: 0.3503 - accuracy: 0.8797 - val_loss: 0.3404 - val_accuracy: 0.8965\n",
            "Epoch 34/200\n",
            "47/47 [==============================] - 0s 5ms/step - loss: 0.3469 - accuracy: 0.8834 - val_loss: 0.3242 - val_accuracy: 0.8973\n",
            "Epoch 35/200\n",
            "47/47 [==============================] - 0s 4ms/step - loss: 0.3479 - accuracy: 0.8884 - val_loss: 0.3530 - val_accuracy: 0.8769\n",
            "Epoch 36/200\n",
            "47/47 [==============================] - 0s 4ms/step - loss: 0.3505 - accuracy: 0.8837 - val_loss: 0.3397 - val_accuracy: 0.8855\n",
            "Epoch 37/200\n",
            "47/47 [==============================] - 0s 4ms/step - loss: 0.3484 - accuracy: 0.8874 - val_loss: 0.3257 - val_accuracy: 0.8980\n",
            "Epoch 38/200\n",
            "47/47 [==============================] - 0s 5ms/step - loss: 0.3429 - accuracy: 0.8884 - val_loss: 0.3247 - val_accuracy: 0.8988\n",
            "Epoch 39/200\n",
            "47/47 [==============================] - 0s 5ms/step - loss: 0.3459 - accuracy: 0.8810 - val_loss: 0.3649 - val_accuracy: 0.8635\n",
            "Epoch 40/200\n",
            "47/47 [==============================] - 0s 4ms/step - loss: 0.3601 - accuracy: 0.8783 - val_loss: 0.3319 - val_accuracy: 0.8871\n",
            "Epoch 41/200\n",
            "47/47 [==============================] - 0s 4ms/step - loss: 0.3428 - accuracy: 0.8861 - val_loss: 0.3398 - val_accuracy: 0.8886\n",
            "Epoch 42/200\n",
            "47/47 [==============================] - 0s 4ms/step - loss: 0.3614 - accuracy: 0.8790 - val_loss: 0.3411 - val_accuracy: 0.8839\n",
            "Epoch 43/200\n",
            "47/47 [==============================] - 0s 5ms/step - loss: 0.3542 - accuracy: 0.8837 - val_loss: 0.3325 - val_accuracy: 0.8894\n",
            "Epoch 44/200\n",
            "47/47 [==============================] - 0s 5ms/step - loss: 0.3513 - accuracy: 0.8857 - val_loss: 0.3317 - val_accuracy: 0.8894\n",
            "Epoch 45/200\n",
            "47/47 [==============================] - 0s 4ms/step - loss: 0.3609 - accuracy: 0.8810 - val_loss: 0.3481 - val_accuracy: 0.8800\n",
            "Epoch 46/200\n",
            "47/47 [==============================] - 0s 4ms/step - loss: 0.3502 - accuracy: 0.8844 - val_loss: 0.3247 - val_accuracy: 0.8996\n",
            "Epoch 47/200\n",
            "47/47 [==============================] - 0s 5ms/step - loss: 0.3369 - accuracy: 0.8921 - val_loss: 0.3235 - val_accuracy: 0.8996\n",
            "Epoch 48/200\n",
            "47/47 [==============================] - 0s 4ms/step - loss: 0.3420 - accuracy: 0.8881 - val_loss: 0.3251 - val_accuracy: 0.8988\n",
            "Epoch 49/200\n",
            "47/47 [==============================] - 0s 4ms/step - loss: 0.3419 - accuracy: 0.8877 - val_loss: 0.3521 - val_accuracy: 0.8800\n",
            "Epoch 50/200\n",
            "47/47 [==============================] - 0s 4ms/step - loss: 0.3605 - accuracy: 0.8803 - val_loss: 0.3300 - val_accuracy: 0.8980\n",
            "Epoch 51/200\n",
            "47/47 [==============================] - 0s 4ms/step - loss: 0.3732 - accuracy: 0.8706 - val_loss: 0.3945 - val_accuracy: 0.8643\n",
            "Epoch 52/200\n",
            "47/47 [==============================] - 0s 4ms/step - loss: 0.3719 - accuracy: 0.8743 - val_loss: 0.3314 - val_accuracy: 0.8996\n",
            "Epoch 53/200\n",
            "47/47 [==============================] - 0s 4ms/step - loss: 0.3575 - accuracy: 0.8817 - val_loss: 0.3366 - val_accuracy: 0.8886\n",
            "Epoch 54/200\n",
            "47/47 [==============================] - 0s 5ms/step - loss: 0.3630 - accuracy: 0.8793 - val_loss: 0.3300 - val_accuracy: 0.8949\n",
            "Epoch 55/200\n",
            "47/47 [==============================] - 0s 5ms/step - loss: 0.3934 - accuracy: 0.8659 - val_loss: 0.3410 - val_accuracy: 0.8808\n",
            "Epoch 56/200\n",
            "47/47 [==============================] - 0s 4ms/step - loss: 0.3657 - accuracy: 0.8736 - val_loss: 0.3534 - val_accuracy: 0.8769\n",
            "Epoch 57/200\n",
            "47/47 [==============================] - 0s 5ms/step - loss: 0.3594 - accuracy: 0.8840 - val_loss: 0.3313 - val_accuracy: 0.8965\n",
            "Epoch 58/200\n",
            "47/47 [==============================] - 0s 5ms/step - loss: 0.3526 - accuracy: 0.8827 - val_loss: 0.3288 - val_accuracy: 0.8996\n",
            "Epoch 59/200\n",
            "47/47 [==============================] - 0s 4ms/step - loss: 0.3509 - accuracy: 0.8874 - val_loss: 0.3277 - val_accuracy: 0.8996\n",
            "Epoch 60/200\n",
            "47/47 [==============================] - 0s 4ms/step - loss: 0.3626 - accuracy: 0.8793 - val_loss: 0.3820 - val_accuracy: 0.8690\n",
            "Epoch 61/200\n",
            "47/47 [==============================] - 0s 5ms/step - loss: 0.3586 - accuracy: 0.8824 - val_loss: 0.3298 - val_accuracy: 0.8973\n",
            "Epoch 62/200\n",
            "47/47 [==============================] - 0s 4ms/step - loss: 0.3512 - accuracy: 0.8850 - val_loss: 0.3268 - val_accuracy: 0.8973\n",
            "Epoch 63/200\n",
            "47/47 [==============================] - 0s 4ms/step - loss: 0.3627 - accuracy: 0.8797 - val_loss: 0.3290 - val_accuracy: 0.8996\n",
            "Epoch 64/200\n",
            "47/47 [==============================] - 0s 4ms/step - loss: 0.3556 - accuracy: 0.8850 - val_loss: 0.3288 - val_accuracy: 0.8925\n",
            "Epoch 65/200\n",
            "47/47 [==============================] - 0s 4ms/step - loss: 0.3585 - accuracy: 0.8813 - val_loss: 0.3275 - val_accuracy: 0.8996\n",
            "Epoch 66/200\n",
            "47/47 [==============================] - 0s 5ms/step - loss: 0.3426 - accuracy: 0.8881 - val_loss: 0.3375 - val_accuracy: 0.8871\n",
            "Epoch 67/200\n",
            "47/47 [==============================] - 0s 5ms/step - loss: 0.3631 - accuracy: 0.8790 - val_loss: 0.3354 - val_accuracy: 0.8941\n",
            "Epoch 68/200\n",
            "47/47 [==============================] - 0s 5ms/step - loss: 0.3384 - accuracy: 0.8904 - val_loss: 0.3272 - val_accuracy: 0.8925\n",
            "Epoch 69/200\n",
            "47/47 [==============================] - 0s 4ms/step - loss: 0.3581 - accuracy: 0.8824 - val_loss: 0.3250 - val_accuracy: 0.8988\n",
            "Epoch 70/200\n",
            "47/47 [==============================] - 0s 4ms/step - loss: 0.3445 - accuracy: 0.8874 - val_loss: 0.3271 - val_accuracy: 0.8973\n",
            "Epoch 71/200\n",
            "47/47 [==============================] - 0s 4ms/step - loss: 0.3536 - accuracy: 0.8830 - val_loss: 0.3319 - val_accuracy: 0.8886\n",
            "Epoch 72/200\n",
            "47/47 [==============================] - 0s 5ms/step - loss: 0.3474 - accuracy: 0.8857 - val_loss: 0.3260 - val_accuracy: 0.8980\n",
            "Epoch 73/200\n",
            "47/47 [==============================] - 0s 4ms/step - loss: 0.3431 - accuracy: 0.8871 - val_loss: 0.3231 - val_accuracy: 0.9004\n",
            "Epoch 74/200\n",
            "47/47 [==============================] - 0s 3ms/step - loss: 0.3336 - accuracy: 0.8928 - val_loss: 0.3265 - val_accuracy: 0.8918\n",
            "Epoch 75/200\n",
            "47/47 [==============================] - 0s 4ms/step - loss: 0.3460 - accuracy: 0.8871 - val_loss: 0.3219 - val_accuracy: 0.8996\n",
            "Epoch 76/200\n",
            "47/47 [==============================] - 0s 5ms/step - loss: 0.3395 - accuracy: 0.8911 - val_loss: 0.3223 - val_accuracy: 0.9004\n",
            "Epoch 77/200\n",
            "47/47 [==============================] - 0s 4ms/step - loss: 0.3478 - accuracy: 0.8871 - val_loss: 0.3337 - val_accuracy: 0.8902\n",
            "Epoch 78/200\n",
            "47/47 [==============================] - 0s 5ms/step - loss: 0.3605 - accuracy: 0.8797 - val_loss: 0.3599 - val_accuracy: 0.8776\n",
            "Epoch 79/200\n",
            "47/47 [==============================] - 0s 4ms/step - loss: 0.3513 - accuracy: 0.8844 - val_loss: 0.3232 - val_accuracy: 0.8973\n",
            "Epoch 80/200\n",
            "47/47 [==============================] - 0s 4ms/step - loss: 0.3378 - accuracy: 0.8908 - val_loss: 0.3288 - val_accuracy: 0.8973\n",
            "Epoch 81/200\n",
            "47/47 [==============================] - 0s 5ms/step - loss: 0.3406 - accuracy: 0.8908 - val_loss: 0.3286 - val_accuracy: 0.8973\n",
            "Epoch 82/200\n",
            "47/47 [==============================] - 0s 5ms/step - loss: 0.3486 - accuracy: 0.8857 - val_loss: 0.3277 - val_accuracy: 0.8973\n",
            "Epoch 83/200\n",
            "47/47 [==============================] - 0s 5ms/step - loss: 0.3380 - accuracy: 0.8901 - val_loss: 0.3252 - val_accuracy: 0.8941\n",
            "Epoch 84/200\n",
            "47/47 [==============================] - 0s 4ms/step - loss: 0.3485 - accuracy: 0.8847 - val_loss: 0.3243 - val_accuracy: 0.8988\n",
            "Epoch 85/200\n",
            "47/47 [==============================] - 0s 4ms/step - loss: 0.3561 - accuracy: 0.8840 - val_loss: 0.3325 - val_accuracy: 0.8925\n",
            "Epoch 86/200\n",
            "47/47 [==============================] - 0s 4ms/step - loss: 0.3475 - accuracy: 0.8871 - val_loss: 0.3241 - val_accuracy: 0.9012\n",
            "Epoch 87/200\n",
            "47/47 [==============================] - 0s 5ms/step - loss: 0.3484 - accuracy: 0.8867 - val_loss: 0.3248 - val_accuracy: 0.8980\n",
            "Epoch 88/200\n",
            "47/47 [==============================] - 0s 4ms/step - loss: 0.3605 - accuracy: 0.8790 - val_loss: 0.3245 - val_accuracy: 0.9012\n",
            "Epoch 89/200\n",
            "47/47 [==============================] - 0s 4ms/step - loss: 0.3539 - accuracy: 0.8827 - val_loss: 0.3259 - val_accuracy: 0.8949\n",
            "Epoch 90/200\n",
            "47/47 [==============================] - 0s 4ms/step - loss: 0.3462 - accuracy: 0.8881 - val_loss: 0.3326 - val_accuracy: 0.8933\n",
            "Epoch 91/200\n",
            "47/47 [==============================] - 0s 5ms/step - loss: 0.3428 - accuracy: 0.8894 - val_loss: 0.3230 - val_accuracy: 0.9004\n",
            "Epoch 92/200\n",
            "47/47 [==============================] - 0s 4ms/step - loss: 0.3466 - accuracy: 0.8877 - val_loss: 0.3231 - val_accuracy: 0.9004\n",
            "Epoch 93/200\n",
            "47/47 [==============================] - 0s 4ms/step - loss: 0.3389 - accuracy: 0.8914 - val_loss: 0.3303 - val_accuracy: 0.8949\n",
            "Epoch 94/200\n",
            "47/47 [==============================] - 0s 4ms/step - loss: 0.3555 - accuracy: 0.8840 - val_loss: 0.3603 - val_accuracy: 0.8769\n",
            "Epoch 95/200\n",
            "47/47 [==============================] - 0s 4ms/step - loss: 0.3633 - accuracy: 0.8790 - val_loss: 0.3714 - val_accuracy: 0.8729\n",
            "Epoch 96/200\n",
            "47/47 [==============================] - 0s 5ms/step - loss: 0.3504 - accuracy: 0.8830 - val_loss: 0.3266 - val_accuracy: 0.8988\n",
            "Epoch 97/200\n",
            "47/47 [==============================] - 0s 5ms/step - loss: 0.3392 - accuracy: 0.8904 - val_loss: 0.3519 - val_accuracy: 0.8816\n",
            "Epoch 98/200\n",
            "47/47 [==============================] - 0s 5ms/step - loss: 0.3426 - accuracy: 0.8861 - val_loss: 0.3409 - val_accuracy: 0.8808\n",
            "Epoch 99/200\n",
            "47/47 [==============================] - 0s 5ms/step - loss: 0.3456 - accuracy: 0.8867 - val_loss: 0.3260 - val_accuracy: 0.8941\n",
            "Epoch 100/200\n",
            "47/47 [==============================] - 0s 5ms/step - loss: 0.3378 - accuracy: 0.8938 - val_loss: 0.3243 - val_accuracy: 0.9004\n",
            "Epoch 101/200\n",
            "47/47 [==============================] - 1s 12ms/step - loss: 0.3344 - accuracy: 0.8921 - val_loss: 0.3252 - val_accuracy: 0.9004\n",
            "Epoch 102/200\n",
            "47/47 [==============================] - 1s 11ms/step - loss: 0.3475 - accuracy: 0.8857 - val_loss: 0.3289 - val_accuracy: 0.8957\n",
            "Epoch 103/200\n",
            "47/47 [==============================] - 0s 8ms/step - loss: 0.3359 - accuracy: 0.8908 - val_loss: 0.3405 - val_accuracy: 0.8847\n",
            "Epoch 104/200\n",
            "47/47 [==============================] - 0s 7ms/step - loss: 0.3423 - accuracy: 0.8881 - val_loss: 0.3231 - val_accuracy: 0.9004\n",
            "Epoch 105/200\n",
            "47/47 [==============================] - 1s 13ms/step - loss: 0.3468 - accuracy: 0.8891 - val_loss: 0.3231 - val_accuracy: 0.8988\n",
            "Epoch 106/200\n",
            "47/47 [==============================] - 0s 9ms/step - loss: 0.3607 - accuracy: 0.8793 - val_loss: 0.3296 - val_accuracy: 0.8965\n",
            "Epoch 107/200\n",
            "47/47 [==============================] - 0s 6ms/step - loss: 0.3513 - accuracy: 0.8840 - val_loss: 0.3231 - val_accuracy: 0.8996\n",
            "Epoch 108/200\n",
            "47/47 [==============================] - 0s 5ms/step - loss: 0.3389 - accuracy: 0.8897 - val_loss: 0.3246 - val_accuracy: 0.8996\n",
            "Epoch 109/200\n",
            "47/47 [==============================] - 0s 4ms/step - loss: 0.3352 - accuracy: 0.8934 - val_loss: 0.3218 - val_accuracy: 0.9012\n",
            "Epoch 110/200\n",
            "47/47 [==============================] - 0s 4ms/step - loss: 0.3462 - accuracy: 0.8867 - val_loss: 0.3316 - val_accuracy: 0.8925\n",
            "Epoch 111/200\n",
            "47/47 [==============================] - 0s 5ms/step - loss: 0.3574 - accuracy: 0.8834 - val_loss: 0.3262 - val_accuracy: 0.9004\n",
            "Epoch 112/200\n",
            "47/47 [==============================] - 0s 5ms/step - loss: 0.3719 - accuracy: 0.8763 - val_loss: 0.3329 - val_accuracy: 0.8996\n",
            "Epoch 113/200\n",
            "47/47 [==============================] - 0s 4ms/step - loss: 0.3446 - accuracy: 0.8891 - val_loss: 0.3217 - val_accuracy: 0.9004\n",
            "Epoch 114/200\n",
            "47/47 [==============================] - 0s 4ms/step - loss: 0.3330 - accuracy: 0.8921 - val_loss: 0.3207 - val_accuracy: 0.8988\n",
            "Epoch 115/200\n",
            "47/47 [==============================] - 0s 5ms/step - loss: 0.3291 - accuracy: 0.8968 - val_loss: 0.3181 - val_accuracy: 0.8996\n",
            "Epoch 116/200\n",
            "47/47 [==============================] - 0s 4ms/step - loss: 0.3382 - accuracy: 0.8901 - val_loss: 0.3224 - val_accuracy: 0.8980\n",
            "Epoch 117/200\n",
            "47/47 [==============================] - 0s 5ms/step - loss: 0.3538 - accuracy: 0.8840 - val_loss: 0.3309 - val_accuracy: 0.8957\n",
            "Epoch 118/200\n",
            "47/47 [==============================] - 0s 5ms/step - loss: 0.3527 - accuracy: 0.8840 - val_loss: 0.3232 - val_accuracy: 0.9004\n",
            "Epoch 119/200\n",
            "47/47 [==============================] - 0s 5ms/step - loss: 0.3650 - accuracy: 0.8797 - val_loss: 0.3284 - val_accuracy: 0.8965\n",
            "Epoch 120/200\n",
            "47/47 [==============================] - 0s 4ms/step - loss: 0.3448 - accuracy: 0.8881 - val_loss: 0.3255 - val_accuracy: 0.8988\n",
            "Epoch 121/200\n",
            "47/47 [==============================] - 0s 4ms/step - loss: 0.3531 - accuracy: 0.8820 - val_loss: 0.3370 - val_accuracy: 0.8878\n",
            "Epoch 122/200\n",
            "47/47 [==============================] - 0s 5ms/step - loss: 0.3453 - accuracy: 0.8884 - val_loss: 0.3342 - val_accuracy: 0.8894\n",
            "Epoch 123/200\n",
            "47/47 [==============================] - 0s 5ms/step - loss: 0.3366 - accuracy: 0.8931 - val_loss: 0.3227 - val_accuracy: 0.9004\n",
            "Epoch 124/200\n",
            "47/47 [==============================] - 0s 5ms/step - loss: 0.3338 - accuracy: 0.8928 - val_loss: 0.3214 - val_accuracy: 0.8988\n",
            "Epoch 125/200\n",
            "47/47 [==============================] - 0s 4ms/step - loss: 0.3324 - accuracy: 0.8941 - val_loss: 0.3233 - val_accuracy: 0.9004\n",
            "Epoch 126/200\n",
            "47/47 [==============================] - 0s 5ms/step - loss: 0.3359 - accuracy: 0.8914 - val_loss: 0.3305 - val_accuracy: 0.8941\n",
            "Epoch 127/200\n",
            "47/47 [==============================] - 0s 5ms/step - loss: 0.3375 - accuracy: 0.8897 - val_loss: 0.3277 - val_accuracy: 0.8980\n",
            "Epoch 128/200\n",
            "47/47 [==============================] - 0s 4ms/step - loss: 0.3354 - accuracy: 0.8911 - val_loss: 0.3466 - val_accuracy: 0.8816\n",
            "Epoch 129/200\n",
            "47/47 [==============================] - 0s 5ms/step - loss: 0.3467 - accuracy: 0.8881 - val_loss: 0.3256 - val_accuracy: 0.9012\n",
            "Epoch 130/200\n",
            "47/47 [==============================] - 0s 5ms/step - loss: 0.3403 - accuracy: 0.8931 - val_loss: 0.3228 - val_accuracy: 0.9004\n",
            "Epoch 131/200\n",
            "47/47 [==============================] - 0s 5ms/step - loss: 0.3316 - accuracy: 0.8945 - val_loss: 0.3217 - val_accuracy: 0.8980\n",
            "Epoch 132/200\n",
            "47/47 [==============================] - 0s 4ms/step - loss: 0.3369 - accuracy: 0.8938 - val_loss: 0.3220 - val_accuracy: 0.8988\n",
            "Epoch 133/200\n",
            "47/47 [==============================] - 0s 5ms/step - loss: 0.3302 - accuracy: 0.8951 - val_loss: 0.3353 - val_accuracy: 0.8863\n",
            "Epoch 134/200\n",
            "47/47 [==============================] - 0s 5ms/step - loss: 0.3509 - accuracy: 0.8864 - val_loss: 0.3224 - val_accuracy: 0.8980\n",
            "Epoch 135/200\n",
            "47/47 [==============================] - 0s 4ms/step - loss: 0.3506 - accuracy: 0.8854 - val_loss: 0.3252 - val_accuracy: 0.8949\n",
            "Epoch 136/200\n",
            "47/47 [==============================] - 0s 4ms/step - loss: 0.3578 - accuracy: 0.8817 - val_loss: 0.3225 - val_accuracy: 0.8980\n",
            "Epoch 137/200\n",
            "47/47 [==============================] - 0s 4ms/step - loss: 0.3493 - accuracy: 0.8881 - val_loss: 0.3228 - val_accuracy: 0.8988\n",
            "Epoch 138/200\n",
            "47/47 [==============================] - 0s 4ms/step - loss: 0.3524 - accuracy: 0.8847 - val_loss: 0.3417 - val_accuracy: 0.8847\n",
            "Epoch 139/200\n",
            "47/47 [==============================] - 0s 5ms/step - loss: 0.3581 - accuracy: 0.8820 - val_loss: 0.3240 - val_accuracy: 0.9012\n",
            "Epoch 140/200\n",
            "47/47 [==============================] - 0s 4ms/step - loss: 0.3528 - accuracy: 0.8854 - val_loss: 0.3219 - val_accuracy: 0.8988\n",
            "Epoch 141/200\n",
            "47/47 [==============================] - 0s 4ms/step - loss: 0.3531 - accuracy: 0.8840 - val_loss: 0.3307 - val_accuracy: 0.8957\n",
            "Epoch 142/200\n",
            "47/47 [==============================] - 0s 4ms/step - loss: 0.3632 - accuracy: 0.8783 - val_loss: 0.3226 - val_accuracy: 0.8988\n",
            "Epoch 143/200\n",
            "47/47 [==============================] - 0s 5ms/step - loss: 0.3533 - accuracy: 0.8820 - val_loss: 0.3311 - val_accuracy: 0.8949\n",
            "Epoch 144/200\n",
            "47/47 [==============================] - 0s 4ms/step - loss: 0.3318 - accuracy: 0.8928 - val_loss: 0.3233 - val_accuracy: 0.9004\n",
            "Epoch 145/200\n",
            "47/47 [==============================] - 0s 4ms/step - loss: 0.3351 - accuracy: 0.8911 - val_loss: 0.3242 - val_accuracy: 0.8949\n",
            "Epoch 146/200\n",
            "47/47 [==============================] - 0s 4ms/step - loss: 0.3439 - accuracy: 0.8884 - val_loss: 0.3234 - val_accuracy: 0.8996\n",
            "Epoch 147/200\n",
            "47/47 [==============================] - 0s 10ms/step - loss: 0.3500 - accuracy: 0.8854 - val_loss: 0.3236 - val_accuracy: 0.8996\n",
            "Epoch 148/200\n",
            "47/47 [==============================] - 1s 14ms/step - loss: 0.3307 - accuracy: 0.8958 - val_loss: 0.3234 - val_accuracy: 0.9004\n",
            "Epoch 149/200\n",
            "47/47 [==============================] - 0s 5ms/step - loss: 0.3355 - accuracy: 0.8918 - val_loss: 0.3216 - val_accuracy: 0.8988\n",
            "Epoch 150/200\n",
            "47/47 [==============================] - 0s 4ms/step - loss: 0.3283 - accuracy: 0.8961 - val_loss: 0.3247 - val_accuracy: 0.8996\n",
            "Epoch 151/200\n",
            "47/47 [==============================] - 0s 5ms/step - loss: 0.3400 - accuracy: 0.8911 - val_loss: 0.3377 - val_accuracy: 0.8863\n",
            "Epoch 152/200\n",
            "47/47 [==============================] - 0s 4ms/step - loss: 0.3621 - accuracy: 0.8800 - val_loss: 0.3293 - val_accuracy: 0.8957\n",
            "Epoch 153/200\n",
            "47/47 [==============================] - 0s 5ms/step - loss: 0.3469 - accuracy: 0.8867 - val_loss: 0.3349 - val_accuracy: 0.8894\n",
            "Epoch 154/200\n",
            "47/47 [==============================] - 0s 5ms/step - loss: 0.3381 - accuracy: 0.8924 - val_loss: 0.3209 - val_accuracy: 0.8988\n",
            "Epoch 155/200\n",
            "47/47 [==============================] - 0s 5ms/step - loss: 0.3317 - accuracy: 0.8934 - val_loss: 0.3222 - val_accuracy: 0.8996\n",
            "Epoch 156/200\n",
            "47/47 [==============================] - 0s 5ms/step - loss: 0.3409 - accuracy: 0.8904 - val_loss: 0.3214 - val_accuracy: 0.8996\n",
            "Epoch 157/200\n",
            "47/47 [==============================] - 0s 4ms/step - loss: 0.3511 - accuracy: 0.8867 - val_loss: 0.3228 - val_accuracy: 0.9004\n",
            "Epoch 158/200\n",
            "47/47 [==============================] - 0s 5ms/step - loss: 0.3535 - accuracy: 0.8820 - val_loss: 0.3232 - val_accuracy: 0.9004\n",
            "Epoch 159/200\n",
            "47/47 [==============================] - 0s 4ms/step - loss: 0.3346 - accuracy: 0.8934 - val_loss: 0.3215 - val_accuracy: 0.9004\n",
            "Epoch 160/200\n",
            "47/47 [==============================] - 0s 4ms/step - loss: 0.3354 - accuracy: 0.8914 - val_loss: 0.3271 - val_accuracy: 0.8973\n",
            "Epoch 161/200\n",
            "47/47 [==============================] - 0s 5ms/step - loss: 0.3319 - accuracy: 0.8945 - val_loss: 0.3261 - val_accuracy: 0.8980\n",
            "Epoch 162/200\n",
            "47/47 [==============================] - 0s 4ms/step - loss: 0.3372 - accuracy: 0.8911 - val_loss: 0.3271 - val_accuracy: 0.8957\n",
            "Epoch 163/200\n",
            "47/47 [==============================] - 0s 4ms/step - loss: 0.3364 - accuracy: 0.8908 - val_loss: 0.3230 - val_accuracy: 0.9004\n",
            "Epoch 164/200\n",
            "47/47 [==============================] - 0s 4ms/step - loss: 0.3326 - accuracy: 0.8931 - val_loss: 0.3278 - val_accuracy: 0.8973\n",
            "Epoch 165/200\n",
            "47/47 [==============================] - 0s 5ms/step - loss: 0.3342 - accuracy: 0.8934 - val_loss: 0.3226 - val_accuracy: 0.8996\n",
            "Epoch 166/200\n",
            "47/47 [==============================] - 0s 5ms/step - loss: 0.3382 - accuracy: 0.8928 - val_loss: 0.3257 - val_accuracy: 0.8988\n",
            "Epoch 167/200\n",
            "47/47 [==============================] - 0s 5ms/step - loss: 0.3294 - accuracy: 0.8941 - val_loss: 0.3330 - val_accuracy: 0.8871\n",
            "Epoch 168/200\n",
            "47/47 [==============================] - 0s 4ms/step - loss: 0.3446 - accuracy: 0.8854 - val_loss: 0.3241 - val_accuracy: 0.9012\n",
            "Epoch 169/200\n",
            "47/47 [==============================] - 0s 4ms/step - loss: 0.3391 - accuracy: 0.8904 - val_loss: 0.3221 - val_accuracy: 0.8996\n",
            "Epoch 170/200\n",
            "47/47 [==============================] - 0s 5ms/step - loss: 0.3364 - accuracy: 0.8928 - val_loss: 0.3246 - val_accuracy: 0.9004\n",
            "Epoch 171/200\n",
            "47/47 [==============================] - 0s 5ms/step - loss: 0.3294 - accuracy: 0.8975 - val_loss: 0.3219 - val_accuracy: 0.8988\n",
            "Epoch 172/200\n",
            "47/47 [==============================] - 0s 4ms/step - loss: 0.3367 - accuracy: 0.8901 - val_loss: 0.3434 - val_accuracy: 0.8831\n",
            "Epoch 173/200\n",
            "47/47 [==============================] - 0s 5ms/step - loss: 0.3384 - accuracy: 0.8921 - val_loss: 0.3348 - val_accuracy: 0.8902\n",
            "Epoch 174/200\n",
            "47/47 [==============================] - 0s 4ms/step - loss: 0.3418 - accuracy: 0.8891 - val_loss: 0.3238 - val_accuracy: 0.8996\n",
            "Epoch 175/200\n",
            "47/47 [==============================] - 0s 4ms/step - loss: 0.3364 - accuracy: 0.8928 - val_loss: 0.3308 - val_accuracy: 0.8941\n",
            "Epoch 176/200\n",
            "47/47 [==============================] - 0s 5ms/step - loss: 0.3328 - accuracy: 0.8938 - val_loss: 0.3221 - val_accuracy: 0.8996\n",
            "Epoch 177/200\n",
            "47/47 [==============================] - 0s 5ms/step - loss: 0.3320 - accuracy: 0.8921 - val_loss: 0.3327 - val_accuracy: 0.8902\n",
            "Epoch 178/200\n",
            "47/47 [==============================] - 0s 4ms/step - loss: 0.3328 - accuracy: 0.8941 - val_loss: 0.3214 - val_accuracy: 0.8996\n",
            "Epoch 179/200\n",
            "47/47 [==============================] - 0s 5ms/step - loss: 0.3375 - accuracy: 0.8901 - val_loss: 0.3328 - val_accuracy: 0.8902\n",
            "Epoch 180/200\n",
            "47/47 [==============================] - 0s 4ms/step - loss: 0.3296 - accuracy: 0.8948 - val_loss: 0.3235 - val_accuracy: 0.8949\n",
            "Epoch 181/200\n",
            "47/47 [==============================] - 0s 4ms/step - loss: 0.3324 - accuracy: 0.8941 - val_loss: 0.3333 - val_accuracy: 0.8902\n",
            "Epoch 182/200\n",
            "47/47 [==============================] - 0s 5ms/step - loss: 0.3393 - accuracy: 0.8901 - val_loss: 0.3225 - val_accuracy: 0.9004\n",
            "Epoch 183/200\n",
            "47/47 [==============================] - 0s 4ms/step - loss: 0.3276 - accuracy: 0.8955 - val_loss: 0.3221 - val_accuracy: 0.8996\n",
            "Epoch 184/200\n",
            "47/47 [==============================] - 0s 4ms/step - loss: 0.3313 - accuracy: 0.8938 - val_loss: 0.3225 - val_accuracy: 0.9004\n",
            "Epoch 185/200\n",
            "47/47 [==============================] - 0s 6ms/step - loss: 0.3371 - accuracy: 0.8921 - val_loss: 0.3220 - val_accuracy: 0.8996\n",
            "Epoch 186/200\n",
            "47/47 [==============================] - 0s 4ms/step - loss: 0.3331 - accuracy: 0.8931 - val_loss: 0.3222 - val_accuracy: 0.8988\n",
            "Epoch 187/200\n",
            "47/47 [==============================] - 0s 5ms/step - loss: 0.3453 - accuracy: 0.8857 - val_loss: 0.3258 - val_accuracy: 0.8980\n",
            "Epoch 188/200\n",
            "47/47 [==============================] - 0s 5ms/step - loss: 0.3380 - accuracy: 0.8904 - val_loss: 0.3230 - val_accuracy: 0.9012\n",
            "Epoch 189/200\n",
            "47/47 [==============================] - 0s 5ms/step - loss: 0.3285 - accuracy: 0.8958 - val_loss: 0.3228 - val_accuracy: 0.9004\n",
            "Epoch 190/200\n",
            "47/47 [==============================] - 0s 4ms/step - loss: 0.3348 - accuracy: 0.8941 - val_loss: 0.3266 - val_accuracy: 0.8973\n",
            "Epoch 191/200\n",
            "47/47 [==============================] - 0s 4ms/step - loss: 0.3330 - accuracy: 0.8931 - val_loss: 0.3207 - val_accuracy: 0.9004\n",
            "Epoch 192/200\n",
            "47/47 [==============================] - 0s 5ms/step - loss: 0.3415 - accuracy: 0.8908 - val_loss: 0.3378 - val_accuracy: 0.8863\n",
            "Epoch 193/200\n",
            "47/47 [==============================] - 0s 4ms/step - loss: 0.3354 - accuracy: 0.8914 - val_loss: 0.3248 - val_accuracy: 0.8988\n",
            "Epoch 194/200\n",
            "47/47 [==============================] - 0s 4ms/step - loss: 0.3332 - accuracy: 0.8924 - val_loss: 0.3238 - val_accuracy: 0.8988\n",
            "Epoch 195/200\n",
            "47/47 [==============================] - 0s 4ms/step - loss: 0.3313 - accuracy: 0.8951 - val_loss: 0.3204 - val_accuracy: 0.9012\n",
            "Epoch 196/200\n",
            "47/47 [==============================] - 0s 5ms/step - loss: 0.3472 - accuracy: 0.8867 - val_loss: 0.3284 - val_accuracy: 0.8973\n",
            "Epoch 197/200\n",
            "47/47 [==============================] - 0s 5ms/step - loss: 0.3510 - accuracy: 0.8850 - val_loss: 0.3269 - val_accuracy: 0.8933\n",
            "Epoch 198/200\n",
            "47/47 [==============================] - 0s 4ms/step - loss: 0.3416 - accuracy: 0.8904 - val_loss: 0.3217 - val_accuracy: 0.8980\n",
            "Epoch 199/200\n",
            "47/47 [==============================] - 0s 5ms/step - loss: 0.3306 - accuracy: 0.8951 - val_loss: 0.3236 - val_accuracy: 0.9012\n",
            "Epoch 200/200\n",
            "47/47 [==============================] - 0s 4ms/step - loss: 0.3304 - accuracy: 0.8958 - val_loss: 0.3221 - val_accuracy: 0.9012\n"
          ]
        },
        {
          "output_type": "display_data",
          "data": {
            "text/plain": [
              "<Figure size 432x288 with 1 Axes>"
            ],
            "image/png": "[encoded data removed]"
          },
          "metadata": {
            "needs_background": "light"
          }
        },
        {
          "output_type": "display_data",
          "data": {
            "text/plain": [
              "<Figure size 432x288 with 1 Axes>"
            ],
            "image/png": "[encoded data removed]"
          },
          "metadata": {
            "needs_background": "light"
          }
        },
        {
          "output_type": "stream",
          "name": "stdout",
          "text": [
            "40/40 [==============================] - 0s 2ms/step\n",
            "\n",
            "Confussion Matrix ------------------\n",
            "[[   1 1095]\n",
            " [  54  125]]\n",
            "\n",
            "Classification report ------------------\n",
            "Class 0 (No Churning) {'precision': 0.01818181818181818, 'recall': 0.0009124087591240876, 'f1-score': 0.001737619461337967, 'support': 1096}: \n",
            "Class 1 (Churning) {'precision': 0.10245901639344263, 'recall': 0.6983240223463687, 'f1-score': 0.17869907076483202, 'support': 179}: \n",
            "\n",
            "Amount ------------------ \n",
            "Potentially Retrieved Money = 7477.55 \n",
            "Lost Money = 11765.60 \n",
            "Success Percentage = 63.55%\n",
            "\n"
          ]
        }
      ]
    },
    {
      "cell_type": "markdown",
      "source": [
        "## Summary Table"
      ],
      "metadata": {
        "id": "oednzItUcvpP"
      }
    },
    {
      "cell_type": "code",
      "source": [
        "data = {'Classifier': ['NN', 'BNN', 'DT', 'BDT', 'RF', 'NB', 'FCN'], \n",
        "        '% Suc. Initial': [49.81, 46.23, 79.76, 78.75, 78.11, 55.14, 24.76], \n",
        "        '% Suc. Optimal': [59.53, 55.70, 81.15, 77.86, 77.86, 55.14, 63.55], \n",
        "        'FP': [8, 5, 20, 0, 1, 95, 1095],\n",
        "        'FN': [56, 61, 38, 29, 29, 83, 54],\n",
        "        'Churning Precision': [0.88, 0.92, 0.87, 1.0, 0.98, 0.50, 0.1],\n",
        "        'Churning Recall': [0.53, 0.49, 0.78, 0.75, 0.75, 0.53, 0.69]}\n",
        "\n",
        "res_tab = pd.DataFrame.from_dict(data)\n",
        "res_tab"
      ],
      "metadata": {
        "colab": {
          "base_uri": "https://localhost:8080/",
          "height": 269
        },
        "id": "J9dPf1ZScuxT",
        "outputId": "83f55783-5af1-42c8-90ea-47a95b3fe2b2"
      },
      "execution_count": 25,
      "outputs": [
        {
          "output_type": "execute_result",
          "data": {
            "text/plain": [
              "  Classifier  % Suc. Initial  % Suc. Optimal    FP  FN  Churning Precision  \\\n",
              "0         NN           49.81           59.53     8  56                0.88   \n",
              "1        BNN           46.23           55.70     5  61                0.92   \n",
              "2         DT           79.76           81.15    20  38                0.87   \n",
              "3        BDT           78.75           77.86     0  29                1.00   \n",
              "4         RF           78.11           77.86     1  29                0.98   \n",
              "5         NB           55.14           55.14    95  83                0.50   \n",
              "6        FCN           24.76           63.55  1095  54                0.10   \n",
              "\n",
              "   Churning Recall  \n",
              "0             0.53  \n",
              "1             0.49  \n",
              "2             0.78  \n",
              "3             0.75  \n",
              "4             0.75  \n",
              "5             0.53  \n",
              "6             0.69  "
            ],
            "text/html": [
              "\n",
              "  <div id=\"df-1fdfa6c7-d158-4843-a88b-e33803483447\">\n",
              "    <div class=\"colab-df-container\">\n",
              "      <div>\n",
              "<style scoped>\n",
              "    .dataframe tbody tr th:only-of-type {\n",
              "        vertical-align: middle;\n",
              "    }\n",
              "\n",
              "    .dataframe tbody tr th {\n",
              "        vertical-align: top;\n",
              "    }\n",
              "\n",
              "    .dataframe thead th {\n",
              "        text-align: right;\n",
              "    }\n",
              "</style>\n",
              "<table border=\"1\" class=\"dataframe\">\n",
              "  <thead>\n",
              "    <tr style=\"text-align: right;\">\n",
              "      <th></th>\n",
              "      <th>Classifier</th>\n",
              "      <th>% Suc. Initial</th>\n",
              "      <th>% Suc. Optimal</th>\n",
              "      <th>FP</th>\n",
              "      <th>FN</th>\n",
              "      <th>Churning Precision</th>\n",
              "      <th>Churning Recall</th>\n",
              "    </tr>\n",
              "  </thead>\n",
              "  <tbody>\n",
              "    <tr>\n",
              "      <th>0</th>\n",
              "      <td>NN</td>\n",
              "      <td>49.81</td>\n",
              "      <td>59.53</td>\n",
              "      <td>8</td>\n",
              "      <td>56</td>\n",
              "      <td>0.88</td>\n",
              "      <td>0.53</td>\n",
              "    </tr>\n",
              "    <tr>\n",
              "      <th>1</th>\n",
              "      <td>BNN</td>\n",
              "      <td>46.23</td>\n",
              "      <td>55.70</td>\n",
              "      <td>5</td>\n",
              "      <td>61</td>\n",
              "      <td>0.92</td>\n",
              "      <td>0.49</td>\n",
              "    </tr>\n",
              "    <tr>\n",
              "      <th>2</th>\n",
              "      <td>DT</td>\n",
              "      <td>79.76</td>\n",
              "      <td>81.15</td>\n",
              "      <td>20</td>\n",
              "      <td>38</td>\n",
              "      <td>0.87</td>\n",
              "      <td>0.78</td>\n",
              "    </tr>\n",
              "    <tr>\n",
              "      <th>3</th>\n",
              "      <td>BDT</td>\n",
              "      <td>78.75</td>\n",
              "      <td>77.86</td>\n",
              "      <td>0</td>\n",
              "      <td>29</td>\n",
              "      <td>1.00</td>\n",
              "      <td>0.75</td>\n",
              "    </tr>\n",
              "    <tr>\n",
              "      <th>4</th>\n",
              "      <td>RF</td>\n",
              "      <td>78.11</td>\n",
              "      <td>77.86</td>\n",
              "      <td>1</td>\n",
              "      <td>29</td>\n",
              "      <td>0.98</td>\n",
              "      <td>0.75</td>\n",
              "    </tr>\n",
              "    <tr>\n",
              "      <th>5</th>\n",
              "      <td>NB</td>\n",
              "      <td>55.14</td>\n",
              "      <td>55.14</td>\n",
              "      <td>95</td>\n",
              "      <td>83</td>\n",
              "      <td>0.50</td>\n",
              "      <td>0.53</td>\n",
              "    </tr>\n",
              "    <tr>\n",
              "      <th>6</th>\n",
              "      <td>FCN</td>\n",
              "      <td>24.76</td>\n",
              "      <td>63.55</td>\n",
              "      <td>1095</td>\n",
              "      <td>54</td>\n",
              "      <td>0.10</td>\n",
              "      <td>0.69</td>\n",
              "    </tr>\n",
              "  </tbody>\n",
              "</table>\n",
              "</div>\n",
              "      <button class=\"colab-df-convert\" onclick=\"convertToInteractive('df-1fdfa6c7-d158-4843-a88b-e33803483447')\"\n",
              "              title=\"Convert this dataframe to an interactive table.\"\n",
              "              style=\"display:none;\">\n",
              "        \n",
              "  <svg xmlns=\"http://www.w3.org/2000/svg\" height=\"24px\"viewBox=\"0 0 24 24\"\n",
              "       width=\"24px\">\n",
              "    <path d=\"M0 0h24v24H0V0z\" fill=\"none\"/>\n",
              "    <path d=\"M18.56 5.44l.94 2.06.94-2.06 2.06-.94-2.06-.94-.94-2.06-.94 2.06-2.06.94zm-11 1L8.5 8.5l.94-2.06 2.06-.94-2.06-.94L8.5 2.5l-.94 2.06-2.06.94zm10 10l.94 2.06.94-2.06 2.06-.94-2.06-.94-.94-2.06-.94 2.06-2.06.94z\"/><path d=\"M17.41 7.96l-1.37-1.37c-.4-.4-.92-.59-1.43-.59-.52 0-1.04.2-1.43.59L10.3 9.45l-7.72 7.72c-.78.78-.78 2.05 0 2.83L4 21.41c.39.39.9.59 1.41.59.51 0 1.02-.2 1.41-.59l7.78-7.78 2.81-2.81c.8-.78.8-2.07 0-2.86zM5.41 20L4 18.59l7.72-7.72 1.47 1.35L5.41 20z\"/>\n",
              "  </svg>\n",
              "      </button>\n",
              "      \n",
              "  <style>\n",
              "    .colab-df-container {\n",
              "      display:flex;\n",
              "      flex-wrap:wrap;\n",
              "      gap: 12px;\n",
              "    }\n",
              "\n",
              "    .colab-df-convert {\n",
              "      background-color: #E8F0FE;\n",
              "      border: none;\n",
              "      border-radius: 50%;\n",
              "      cursor: pointer;\n",
              "      display: none;\n",
              "      fill: #1967D2;\n",
              "      height: 32px;\n",
              "      padding: 0 0 0 0;\n",
              "      width: 32px;\n",
              "    }\n",
              "\n",
              "    .colab-df-convert:hover {\n",
              "      background-color: #E2EBFA;\n",
              "      box-shadow: 0px 1px 2px rgba(60, 64, 67, 0.3), 0px 1px 3px 1px rgba(60, 64, 67, 0.15);\n",
              "      fill: #174EA6;\n",
              "    }\n",
              "\n",
              "    [theme=dark] .colab-df-convert {\n",
              "      background-color: #3B4455;\n",
              "      fill: #D2E3FC;\n",
              "    }\n",
              "\n",
              "    [theme=dark] .colab-df-convert:hover {\n",
              "      background-color: #434B5C;\n",
              "      box-shadow: 0px 1px 3px 1px rgba(0, 0, 0, 0.15);\n",
              "      filter: drop-shadow(0px 1px 2px rgba(0, 0, 0, 0.3));\n",
              "      fill: #FFFFFF;\n",
              "    }\n",
              "  </style>\n",
              "\n",
              "      <script>\n",
              "        const buttonEl =\n",
              "          document.querySelector('#df-1fdfa6c7-d158-4843-a88b-e33803483447 button.colab-df-convert');\n",
              "        buttonEl.style.display =\n",
              "          google.colab.kernel.accessAllowed ? 'block' : 'none';\n",
              "\n",
              "        async function convertToInteractive(key) {\n",
              "          const element = document.querySelector('#df-1fdfa6c7-d158-4843-a88b-e33803483447');\n",
              "          const dataTable =\n",
              "            await google.colab.kernel.invokeFunction('convertToInteractive',\n",
              "                                                     [key], {});\n",
              "          if (!dataTable) return;\n",
              "\n",
              "          const docLinkHtml = 'Like what you see? Visit the ' +\n",
              "            '<a target=\"_blank\" href=https://colab.research.google.com/notebooks/data_table.ipynb>data table notebook</a>'\n",
              "            + ' to learn more about interactive tables.';\n",
              "          element.innerHTML = '';\n",
              "          dataTable['output_type'] = 'display_data';\n",
              "          await google.colab.output.renderOutput(dataTable, element);\n",
              "          const docLink = document.createElement('div');\n",
              "          docLink.innerHTML = docLinkHtml;\n",
              "          element.appendChild(docLink);\n",
              "        }\n",
              "      </script>\n",
              "    </div>\n",
              "  </div>\n",
              "  "
            ]
          },
          "metadata": {},
          "execution_count": 25
        }
      ]
    },
    {
      "cell_type": "markdown",
      "source": [
        "## Final Conclusions\n",
        "\n",
        "As can be seen, each model has its pros and cons. Thus:\n",
        "\n",
        "- The model with **highest success rate** (percentage of money potentially recovered if a marketing strategy is performed to retain the possibly departing customer) is the **Decision Tree Simple**, with 81.15%. The next best would be the Bagging Decision Tree and Random Forest, both with 77.86%.\n",
        "\n",
        "- The models with **fewest false positives** (customers to whom a marketing strategy would be applied but who would still have stayed with us) are the **Bagging Decision Tree and Random Forest**, with 0-1 FP.\n",
        "\n",
        "- The models with **fewest false negatives** (customers to whom we would not apply a marketing strategy and therefore lose because they want to leave) are also the **Bagging Decision Tree and Random Forest**, both with 29 FN.\n",
        "\n",
        "Therefore, the finalist candidates would be Bagging Decision Tree and Random Forest, but considering the simplicity of the model and the short computation time of the results, the **best model for this project would be Bagging Decision Tree**.\n",
        "\n",
        "Finally, and by way of reflection, I would like to point out that **the neural network has not been one of the best models**, in fact it has been one of the worst. We tend to think that neural networks always work better than other classifiers, but in many cases reaching the optimal configuration is very complicated. In our case, the network easily reached the overfitting, classifying all the inputs as churning, but finally we managed to obtain a more balanced model. In any case, other simpler and faster models far outperformed the results obtained by neural networks.\n",
        "\n",
        "Likewise, despite the fact that at the beginning we decided, by intuition, to leave **state and area code** in the set of independent variables, it was found that they not only had no correlation with the dependent variable (churning), but **in many occasions they worsened the models**. In any case, if we had a larger data set at our disposal, it would be a good idea to segment the data by states and make individual models for each of them or for the different areas of the US (north, south, east and west). In fact, we did the experiment and the percentages were increasing, although we decided not to pursue the idea because there was little data per state and the results might not be representative. \n",
        "\n",
        "In short, **this project has been of great help to us to put into practice everything we have learned** in the subject Classification Models and, above all, to structure in our heads the routine procedures related to Data Science and Artificial Intelligence."
      ],
      "metadata": {
        "id": "7XQ-wn1okOrK"
      }
    }
  ]
}
